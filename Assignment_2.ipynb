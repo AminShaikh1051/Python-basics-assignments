{
  "nbformat": 4,
  "nbformat_minor": 0,
  "metadata": {
    "colab": {
      "provenance": []
    },
    "kernelspec": {
      "name": "python3",
      "display_name": "Python 3"
    },
    "language_info": {
      "name": "python"
    }
  },
  "cells": [
    {
      "cell_type": "markdown",
      "source": [
        "1.What are the two values of the Boolean data type? How do you write them?"
      ],
      "metadata": {
        "id": "-gUjoBtuBoj2"
      }
    },
    {
      "cell_type": "code",
      "execution_count": 5,
      "metadata": {
        "id": "mEyf0F1S8TQE"
      },
      "outputs": [],
      "source": [
        "\"\"\" 1)True 2) False \n",
        "first letter is always capital.\"\"\"\n",
        "\n",
        "a = True\n",
        "B = False"
      ]
    },
    {
      "cell_type": "markdown",
      "source": [
        "2. What are the three different types of Boolean operators?"
      ],
      "metadata": {
        "id": "Z7amF5CeCWL6"
      }
    },
    {
      "cell_type": "code",
      "source": [
        "\"\"\"\n",
        "and , or not \n",
        "\"\"\""
      ],
      "metadata": {
        "id": "2Nirf2LwCR1h"
      },
      "execution_count": null,
      "outputs": []
    },
    {
      "cell_type": "markdown",
      "source": [
        "3. Make a list of each Boolean operator's truth tables (i.e. every possible combination of Boolean values for the operator and what it evaluate )"
      ],
      "metadata": {
        "id": "f7AqeTBqX1K_"
      }
    },
    {
      "cell_type": "markdown",
      "source": [
        "and Truth table\n",
        "\n",
        "Value 1|Value 2| Output\n",
        "-|-|-\n",
        "True|True|True\n",
        "True|False|False\n",
        "False|True|False\n",
        "False|False|False\n"
      ],
      "metadata": {
        "id": "R081yDitXye0"
      }
    },
    {
      "cell_type": "markdown",
      "source": [
        "or Truth table\n",
        "\n",
        "Value 1|Value 2| Output\n",
        "-|-|-\n",
        "True|True|True\n",
        "True|False|True\n",
        "False|True|True\n",
        "False|False|False\n"
      ],
      "metadata": {
        "id": "f9mO-fUZXsPK"
      }
    },
    {
      "cell_type": "markdown",
      "source": [
        "not Truth table\n",
        "\n",
        "Value | Output\n",
        "-|-\n",
        "True|False\n",
        "False|True\n"
      ],
      "metadata": {
        "id": "TLKJ5vrkZ_b2"
      }
    },
    {
      "cell_type": "markdown",
      "source": [
        "4. What are the values of the following expressions?\n",
        "\n",
        "1) (5 > 4) and (3 == 5)\n",
        "\n",
        "2) not (5 > 4)\n",
        "\n",
        "3) (5 > 4) or (3 == 5)\n",
        "\n",
        "4) not ((5 > 4) or (3 == 5))\n",
        "\n",
        "5) (True and True) and (True == False)\n",
        "\n",
        "6) (not False) or (not True)\n"
      ],
      "metadata": {
        "id": "wu7cRjiVbNma"
      }
    },
    {
      "cell_type": "markdown",
      "source": [],
      "metadata": {
        "id": "PwR_NQvFb_3T"
      }
    },
    {
      "cell_type": "code",
      "source": [
        "\"\"\"\n",
        "1) False\n",
        "2) False\n",
        "3) True\n",
        "4) False\n",
        "5) False\n",
        "6) True \n",
        "\"\"\""
      ],
      "metadata": {
        "id": "-zzm31qubWy8"
      },
      "execution_count": null,
      "outputs": []
    },
    {
      "cell_type": "markdown",
      "source": [
        "5. What are the six comparison operators?"
      ],
      "metadata": {
        "id": "f3bEamNtZ95d"
      }
    },
    {
      "cell_type": "markdown",
      "source": [
        "<, > , <=, >=, ==, !="
      ],
      "metadata": {
        "id": "iC04M0bUgh-6"
      }
    },
    {
      "cell_type": "markdown",
      "source": [
        "6. How do you tell the difference between the equal to and assignment operators?Describe a condition and when you would use one."
      ],
      "metadata": {
        "id": "1RModJV2bMUr"
      }
    },
    {
      "cell_type": "markdown",
      "source": [
        "Equal to operator is conditional operator which compares betwwen two values for equality.\n",
        "\n",
        "Assignment operartor stroes the value in Variables. it doesnt compare the values.\n",
        "\n",
        "we use equal to operator in case of  if elese conditional statement & in while loop.\n",
        "\n",
        "for taking user input & stroe the value in variable use assignment operator."
      ],
      "metadata": {
        "id": "MPnuLuu-gyKX"
      }
    },
    {
      "cell_type": "markdown",
      "source": [
        "7. Identify the three blocks in this code:\n",
        "\n",
        "spam = 0\n",
        "\n",
        "if spam == 10:\n",
        "\n",
        "print('eggs')\n",
        "\n",
        "if spam > 5:\n",
        "\n",
        "print('bacon')\n",
        "\n",
        "else:\n",
        "\n",
        "print('ham')\n",
        "print('spam')\n",
        "print('spam')\n"
      ],
      "metadata": {
        "id": "NTnRWDl8ll_f"
      }
    },
    {
      "cell_type": "markdown",
      "source": [
        "Ans:\n",
        "\n",
        "1) print('eggs')\n",
        "\n",
        "2) print('bacon')\n",
        "\n",
        "3) print('ham')\n",
        "print('spam')\n",
        "print('spam')"
      ],
      "metadata": {
        "id": "pDsN_FCbmnL3"
      }
    },
    {
      "cell_type": "markdown",
      "source": [
        "print('ham')\n",
        "print('spam')\n",
        "print('spam')"
      ],
      "metadata": {
        "id": "qQRtnIMQm90w"
      }
    },
    {
      "cell_type": "markdown",
      "source": [
        "8. Write code that prints Hello if 1 is stored in spam, prints Howdy if 2 is stored in spam, and prints Greetings! if anything else is stored in spam."
      ],
      "metadata": {
        "id": "x9E9qX072xGU"
      }
    },
    {
      "cell_type": "code",
      "source": [
        "spam = int(input(\"Enter a No: \"))\n",
        "\n",
        "if spam == 1:\n",
        "  print(\"Hello\")\n",
        "elif spam == 2:\n",
        "  print(\"Howdy\")\n",
        "else:\n",
        "  print(\"Greetings!\")\n"
      ],
      "metadata": {
        "colab": {
          "base_uri": "https://localhost:8080/"
        },
        "id": "zjWR8VmRgtnG",
        "outputId": "a5a29db7-13a1-42b6-e00e-1a0f9f0375f4"
      },
      "execution_count": null,
      "outputs": [
        {
          "output_type": "stream",
          "name": "stdout",
          "text": [
            "Enter a No: 6\n",
            "Greetings!\n"
          ]
        }
      ]
    },
    {
      "cell_type": "markdown",
      "source": [
        "9.If your programme is stuck in an endless loop, what keys you’ll press?"
      ],
      "metadata": {
        "id": "dUNJ2Sh-3lOC"
      }
    },
    {
      "cell_type": "code",
      "source": [
        "Ctrl + C"
      ],
      "metadata": {
        "id": "8fqaD3iE3enT"
      },
      "execution_count": null,
      "outputs": []
    },
    {
      "cell_type": "markdown",
      "source": [
        "10. How can you tell the difference between break and continue?"
      ],
      "metadata": {
        "id": "oTEINxoc-pLw"
      }
    },
    {
      "cell_type": "markdown",
      "source": [
        "Ans:\n",
        "\n",
        "break - break keyword stops loop then & there & conrtol will moov out from loop body.\n",
        "\n",
        "continue - continue kweyword control will moov to for or while, skikps the code below.\n",
        "\n"
      ],
      "metadata": {
        "id": "aUHca4YC_QNO"
      }
    },
    {
      "cell_type": "markdown",
      "source": [],
      "metadata": {
        "id": "fc22XHtw_J31"
      }
    },
    {
      "cell_type": "markdown",
      "source": [
        "11. In a for loop, what is the difference between range(10), range(0, 10), and range(0, 10, 1)?"
      ],
      "metadata": {
        "id": "qLjfq9xdEKYa"
      }
    },
    {
      "cell_type": "markdown",
      "source": [
        "range(10)\n",
        "\n",
        "as no starting point is mentioned, range will strat from 0 to 9.\n",
        "\n",
        "range(0,10)\n",
        "\n",
        "range will strat from 0 till 9.\n",
        "\n",
        "range(0,10,1)\n",
        "\n",
        "range will strat from 0 till 9. with  1 jump stape.\n",
        "\n",
        "all above 3 will give the same output.\n",
        "\n",
        "\n",
        "\n",
        "\n",
        "\n",
        "\n"
      ],
      "metadata": {
        "id": "aDA_4XaIEWR8"
      }
    },
    {
      "cell_type": "markdown",
      "source": [
        "12. Write a short program that prints the numbers 1 to 10 using a for loop. Then write an equivalent program that prints the numbers 1 to 10 using a while loop."
      ],
      "metadata": {
        "id": "-9Ps961qFq0F"
      }
    },
    {
      "cell_type": "code",
      "source": [
        "for i in range(1,11):\n",
        "  print(i)"
      ],
      "metadata": {
        "colab": {
          "base_uri": "https://localhost:8080/"
        },
        "id": "Jz_rP7luELOy",
        "outputId": "ba4cf915-c29f-4feb-e25c-87ad70510e15"
      },
      "execution_count": 1,
      "outputs": [
        {
          "output_type": "stream",
          "name": "stdout",
          "text": [
            "1\n",
            "2\n",
            "3\n",
            "4\n",
            "5\n",
            "6\n",
            "7\n",
            "8\n",
            "9\n",
            "10\n"
          ]
        }
      ]
    },
    {
      "cell_type": "code",
      "source": [
        "i = 1\n",
        "\n",
        "while i <= 10:\n",
        "  print(i)\n",
        "\n",
        "  i = i +1"
      ],
      "metadata": {
        "colab": {
          "base_uri": "https://localhost:8080/"
        },
        "id": "-_VgkXZtFyGj",
        "outputId": "65952913-e6d7-417d-9da5-47ff01bdc75c"
      },
      "execution_count": 2,
      "outputs": [
        {
          "output_type": "stream",
          "name": "stdout",
          "text": [
            "1\n",
            "2\n",
            "3\n",
            "4\n",
            "5\n",
            "6\n",
            "7\n",
            "8\n",
            "9\n",
            "10\n"
          ]
        }
      ]
    },
    {
      "cell_type": "markdown",
      "source": [
        "13. If you had a function named bacon() inside a module named spam, how would you call it after importing spam?"
      ],
      "metadata": {
        "id": "LcNbSLKuGQvC"
      }
    },
    {
      "cell_type": "markdown",
      "source": [
        "Ans: spam.bacon()"
      ],
      "metadata": {
        "id": "QGCAGv86HOoq"
      }
    },
    {
      "cell_type": "code",
      "source": [],
      "metadata": {
        "id": "xNEsQuTbGXhp"
      },
      "execution_count": null,
      "outputs": []
    }
  ]
}