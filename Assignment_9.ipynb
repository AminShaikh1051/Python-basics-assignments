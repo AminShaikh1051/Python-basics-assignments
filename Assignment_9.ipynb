{
  "nbformat": 4,
  "nbformat_minor": 0,
  "metadata": {
    "colab": {
      "provenance": []
    },
    "kernelspec": {
      "name": "python3",
      "display_name": "Python 3"
    },
    "language_info": {
      "name": "python"
    }
  },
  "cells": [
    {
      "cell_type": "code",
      "execution_count": 1,
      "metadata": {
        "id": "Y_xUOvIbW464"
      },
      "outputs": [],
      "source": [
        "#1. To what does a relative path refer?\n",
        "#ans -->  Relative paths are relative to the current working directory"
      ]
    },
    {
      "cell_type": "code",
      "source": [
        "#2. What does an absolute path start with your operating system?\n",
        "#ans -- > Absolute paths start with the root folder, such as / or C:\\."
      ],
      "metadata": {
        "id": "8p5_LVovXvaa"
      },
      "execution_count": null,
      "outputs": []
    },
    {
      "cell_type": "code",
      "source": [
        "#3. What do the functions os.getcwd() and os.chdir() do?\n",
        "#ans --> The os.getcwd() function returns the current working directory. The os.chdir() function changes the current working directory."
      ],
      "metadata": {
        "id": "ZF7793HEbRq9"
      },
      "execution_count": null,
      "outputs": []
    },
    {
      "cell_type": "code",
      "source": [
        "#4. What are the . and .. folders?\n",
        "#ans -- > The . folder is the current folder, and .. is the parent folder."
      ],
      "metadata": {
        "id": "jwXcsy8UgGIh"
      },
      "execution_count": null,
      "outputs": []
    },
    {
      "cell_type": "code",
      "source": [
        "#5. In C:\\bacon\\eggs\\spam.txt, which part is the dir name, and which part is the base name?\n",
        "# ans -- > C:\\bacon\\eggs is the dir name, while spam.txt is the base name."
      ],
      "metadata": {
        "id": "hHFGTVRWgWrl"
      },
      "execution_count": null,
      "outputs": []
    },
    {
      "cell_type": "code",
      "source": [
        "#6. What are the three “mode” arguments that can be passed to the open() function?\n",
        "# ans -- > The string 'r' for read mode, 'w' for write mode, and 'a' for append mode\n"
      ],
      "metadata": {
        "id": "gwqciF9wgoUt"
      },
      "execution_count": null,
      "outputs": []
    },
    {
      "cell_type": "code",
      "source": [
        "#7. What happens if an existing file is opened in write mode?\n",
        "# ans -- > An existing file opened in write mode is erased and completely overwritten."
      ],
      "metadata": {
        "id": "IutsBfVig6Em"
      },
      "execution_count": null,
      "outputs": []
    },
    {
      "cell_type": "code",
      "source": [
        "#8. How do you tell the difference between read() and readlines()?\n",
        "#ans -- > The read() method returns the file's entire contents as a single string value. The readlines() method returns a list of strings, where each string is a line from the file's contents."
      ],
      "metadata": {
        "id": "Koz4zBN9jTU5"
      },
      "execution_count": null,
      "outputs": []
    },
    {
      "cell_type": "code",
      "source": [
        "#9. What data structure does a shelf value resemble?\n",
        "#ans -- > A shelf value resembles a dictionary value; it has keys and values, along with keys() and values() methods that work similarly to the dictionary methods of the same names."
      ],
      "metadata": {
        "id": "PSIPEzMTmhFS"
      },
      "execution_count": null,
      "outputs": []
    }
  ]
}