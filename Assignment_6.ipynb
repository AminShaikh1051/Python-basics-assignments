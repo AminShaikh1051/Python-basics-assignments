{
  "nbformat": 4,
  "nbformat_minor": 0,
  "metadata": {
    "colab": {
      "provenance": []
    },
    "kernelspec": {
      "name": "python3",
      "display_name": "Python 3"
    },
    "language_info": {
      "name": "python"
    }
  },
  "cells": [
    {
      "cell_type": "code",
      "source": [
        "#q1. What are escape characters, and how do you use them?"
      ],
      "metadata": {
        "id": "CybN2nMozD2t"
      },
      "execution_count": null,
      "outputs": []
    },
    {
      "cell_type": "markdown",
      "source": [
        "Ans --> To insert characters that are illegal in a string, use an escape character. never get printed as part of the output.  \n",
        "An escape character is a backslash \\ followed by the character you want to insert."
      ],
      "metadata": {
        "id": "6Vi55cZqNBp6"
      }
    },
    {
      "cell_type": "code",
      "source": [
        "#2. What do the escape characters n and t stand for?"
      ],
      "metadata": {
        "id": "xqpIecMLNDkU"
      },
      "execution_count": null,
      "outputs": []
    },
    {
      "cell_type": "markdown",
      "source": [
        "Ans --> \\n,\tThe new line character helps the programmer to insert a new line before or after a string."
      ],
      "metadata": {
        "id": "GVIaoZz5O0EH"
      }
    },
    {
      "cell_type": "markdown",
      "source": [
        "\\t, The t alphabet in Python represents a space. It enables you to insert space or tab between strings in a code"
      ],
      "metadata": {
        "id": "z8_FyU-4PGKn"
      }
    },
    {
      "cell_type": "code",
      "source": [
        "#3. What is the way to include backslash characters in a string?"
      ],
      "metadata": {
        "id": "ymZTZJEiOAzN"
      },
      "execution_count": null,
      "outputs": []
    },
    {
      "cell_type": "markdown",
      "source": [
        "Ans--> The \\\\\\ escape character will represent a backslash character."
      ],
      "metadata": {
        "id": "y0brQbTPX-M7"
      }
    },
    {
      "cell_type": "code",
      "source": [
        "s = '\\\\'\n",
        "print(s)"
      ],
      "metadata": {
        "colab": {
          "base_uri": "https://localhost:8080/"
        },
        "id": "QCoSwCTUX9vZ",
        "outputId": "4fb6a68d-51c3-4ecb-911d-07875949b611"
      },
      "execution_count": 4,
      "outputs": [
        {
          "output_type": "stream",
          "name": "stdout",
          "text": [
            "\\\n"
          ]
        }
      ]
    },
    {
      "cell_type": "code",
      "source": [
        "#4. The string \"Howl's Moving Castle\" is a correct value. Why isn't the single quote character in the word Howl's not escaped a problem?"
      ],
      "metadata": {
        "id": "iqYwEdB5YNBV"
      },
      "execution_count": null,
      "outputs": []
    },
    {
      "cell_type": "markdown",
      "source": [
        "Ans -- > Because string started & ended with Double qoute"
      ],
      "metadata": {
        "id": "FEbucNtkZHVA"
      }
    },
    {
      "cell_type": "code",
      "source": [
        "#5. How do you write a string of newlines if you don't want to use the n character?"
      ],
      "metadata": {
        "id": "pfbdkdVXZSBh"
      },
      "execution_count": null,
      "outputs": []
    },
    {
      "cell_type": "markdown",
      "source": [
        "Ans --> You can print strings without adding a new line with end = <character>, which <character> is the character that will be used to separate the lines."
      ],
      "metadata": {
        "id": "-pQzjZPfbLkk"
      }
    },
    {
      "cell_type": "code",
      "source": [
        "# Ans--> You can print strings without adding a new line with end = <character>, which <character> is the character that will be used to separate the lines."
      ],
      "metadata": {
        "id": "gpsHXZRwZROR"
      },
      "execution_count": null,
      "outputs": []
    },
    {
      "cell_type": "code",
      "source": [
        "for i in range(15):\n",
        "  print(i,end=\",\")"
      ],
      "metadata": {
        "colab": {
          "base_uri": "https://localhost:8080/"
        },
        "id": "KVdOJ0JMZB0h",
        "outputId": "7076662e-8e75-492c-f66d-231580a0d2b9"
      },
      "execution_count": null,
      "outputs": [
        {
          "output_type": "stream",
          "name": "stdout",
          "text": [
            "0,1,2,3,4,5,6,7,8,9,10,11,12,13,14,"
          ]
        }
      ]
    },
    {
      "cell_type": "code",
      "source": [
        "for i in range(15):\n",
        "  print(i,end=\"*\")"
      ],
      "metadata": {
        "colab": {
          "base_uri": "https://localhost:8080/"
        },
        "id": "zrarOOk4bmUu",
        "outputId": "9baaea0a-1f3d-437e-efc9-9c0258247c5a"
      },
      "execution_count": null,
      "outputs": [
        {
          "output_type": "stream",
          "name": "stdout",
          "text": [
            "0*1*2*3*4*5*6*7*8*9*10*11*12*13*14*"
          ]
        }
      ]
    },
    {
      "cell_type": "code",
      "source": [
        "for i in range(15):\n",
        "  print(i,end=\"|\")"
      ],
      "metadata": {
        "colab": {
          "base_uri": "https://localhost:8080/"
        },
        "id": "hsaq_wHZbxrM",
        "outputId": "47ad0597-208a-41fb-e82e-58401072216c"
      },
      "execution_count": null,
      "outputs": [
        {
          "output_type": "stream",
          "name": "stdout",
          "text": [
            "0|1|2|3|4|5|6|7|8|9|10|11|12|13|14|"
          ]
        }
      ]
    },
    {
      "cell_type": "code",
      "source": [
        "# 6. What are the values of the given expressions?\n",
        "# 6.1, 'Hello, world!'[1]\n",
        "# 6.2, 'Hello, world!'[0:5]\n",
        "#6.3, 'Hello, world!'[:5]\n",
        "#6.4, 'Hello, world!'[3:]\n",
        "#0 1 2 3 4 5 6 7 8 9 10 11 12\n",
        "#H e l l o ,   w o r l  d  !"
      ],
      "metadata": {
        "id": "SgSZ-_95b0-C"
      },
      "execution_count": null,
      "outputs": []
    },
    {
      "cell_type": "code",
      "source": [
        "#ans 6.1--> e\n",
        "#ans 6.2-->'Hello'\n",
        "#ans 6.3--> 'Hello'\n",
        "#ans 6.4--> 'lo, world!\n",
        "\n"
      ],
      "metadata": {
        "id": "wqV6Xcom39mZ"
      },
      "execution_count": null,
      "outputs": []
    },
    {
      "cell_type": "code",
      "source": [
        "#7. What are the values of the following expressions?\n",
        "'Hello'.upper()\n",
        "'Hello'.upper().isupper()\n",
        "'Hello'.upper().lower()\n"
      ],
      "metadata": {
        "id": "soRtEFB758c-"
      },
      "execution_count": null,
      "outputs": []
    },
    {
      "cell_type": "code",
      "source": [
        "'Hello'.upper() #converts all ele,mnts in string to upper"
      ],
      "metadata": {
        "colab": {
          "base_uri": "https://localhost:8080/",
          "height": 35
        },
        "id": "DGiIYsw46Ah0",
        "outputId": "a0ade5bd-e2fa-4b5f-de8e-dbde20a3ef28"
      },
      "execution_count": null,
      "outputs": [
        {
          "output_type": "execute_result",
          "data": {
            "text/plain": [
              "'HELLO'"
            ],
            "application/vnd.google.colaboratory.intrinsic+json": {
              "type": "string"
            }
          },
          "metadata": {},
          "execution_count": 13
        }
      ]
    },
    {
      "cell_type": "code",
      "source": [
        "'Hello'.upper().isupper() #converts all ele,mnts in string to upper & check the condition is aal elements in uppercase"
      ],
      "metadata": {
        "colab": {
          "base_uri": "https://localhost:8080/"
        },
        "id": "U_4znICc6A8C",
        "outputId": "147477f9-75d6-4f54-f3a6-e59a0723e93a"
      },
      "execution_count": null,
      "outputs": [
        {
          "output_type": "execute_result",
          "data": {
            "text/plain": [
              "True"
            ]
          },
          "metadata": {},
          "execution_count": 14
        }
      ]
    },
    {
      "cell_type": "code",
      "source": [
        "'Hello'.upper().lower()  ##converts all ele,mnts in string to upper & convert them into lowercase"
      ],
      "metadata": {
        "colab": {
          "base_uri": "https://localhost:8080/",
          "height": 35
        },
        "id": "L2GpJ9qJ6Eom",
        "outputId": "f29cc536-30ba-45fc-9985-ecc28577c829"
      },
      "execution_count": null,
      "outputs": [
        {
          "output_type": "execute_result",
          "data": {
            "text/plain": [
              "'hello'"
            ],
            "application/vnd.google.colaboratory.intrinsic+json": {
              "type": "string"
            }
          },
          "metadata": {},
          "execution_count": 15
        }
      ]
    },
    {
      "cell_type": "code",
      "source": [
        "#8. What are the values of the following expressions?\n",
        "'Remember, remember, the fifth of July.'.split()\n",
        "#'-'.join('There can only one.'.split())\n"
      ],
      "metadata": {
        "colab": {
          "base_uri": "https://localhost:8080/"
        },
        "id": "fg1Oruxh6HRh",
        "outputId": "dab8c2ec-5d67-422e-e6c2-5145040789b6"
      },
      "execution_count": null,
      "outputs": [
        {
          "output_type": "execute_result",
          "data": {
            "text/plain": [
              "['Remember,', 'remember,', 'the', 'fifth', 'of', 'July.']"
            ]
          },
          "metadata": {},
          "execution_count": 17
        }
      ]
    },
    {
      "cell_type": "code",
      "source": [
        "##'-'.join('There can only one.'.split())\n",
        "'-'.join('There can only one.'.split())"
      ],
      "metadata": {
        "colab": {
          "base_uri": "https://localhost:8080/",
          "height": 35
        },
        "id": "ttN6jaQz7-lT",
        "outputId": "38c12e92-e0e3-4729-c604-6e10dc92d866"
      },
      "execution_count": null,
      "outputs": [
        {
          "output_type": "execute_result",
          "data": {
            "text/plain": [
              "'There-can-only-one.'"
            ],
            "application/vnd.google.colaboratory.intrinsic+json": {
              "type": "string"
            }
          },
          "metadata": {},
          "execution_count": 18
        }
      ]
    },
    {
      "cell_type": "code",
      "source": [
        "#9. What are the methods for right-justifying, left-justifying, and centering a string?"
      ],
      "metadata": {
        "id": "s5wxlzqh8S3C"
      },
      "execution_count": 5,
      "outputs": []
    },
    {
      "cell_type": "code",
      "source": [
        "#ans--> The rjust(), ljust(), and center() string methods, respectively"
      ],
      "metadata": {
        "id": "xiJR3hqzD66Q"
      },
      "execution_count": 6,
      "outputs": []
    },
    {
      "cell_type": "code",
      "source": [
        "txt = 'ineuron'\n",
        "x = txt.rjust(35,'*')\n",
        "print(x)\n"
      ],
      "metadata": {
        "colab": {
          "base_uri": "https://localhost:8080/"
        },
        "id": "THfHm_C-ECtn",
        "outputId": "8a9b7536-35e1-47fc-9a1c-c2577c653b40"
      },
      "execution_count": 8,
      "outputs": [
        {
          "output_type": "stream",
          "name": "stdout",
          "text": [
            "****************************ineuron\n"
          ]
        }
      ]
    },
    {
      "cell_type": "code",
      "source": [
        "txt = 'ineuron'\n",
        "x = txt.ljust(35,'*')\n",
        "print(x)"
      ],
      "metadata": {
        "colab": {
          "base_uri": "https://localhost:8080/"
        },
        "id": "yYhemhskFAbl",
        "outputId": "0362e83f-ec53-4c24-b891-2f7ecf57d6a5"
      },
      "execution_count": 9,
      "outputs": [
        {
          "output_type": "stream",
          "name": "stdout",
          "text": [
            "ineuron****************************\n"
          ]
        }
      ]
    },
    {
      "cell_type": "code",
      "source": [
        "txt = 'ineuron'\n",
        "x = txt.center(35)\n",
        "print(x)"
      ],
      "metadata": {
        "colab": {
          "base_uri": "https://localhost:8080/"
        },
        "id": "uWqsM4ZpFJOg",
        "outputId": "0444d54f-4e70-4f85-97c1-2ff24068bdfa"
      },
      "execution_count": 14,
      "outputs": [
        {
          "output_type": "stream",
          "name": "stdout",
          "text": [
            "              ineuron              \n"
          ]
        }
      ]
    },
    {
      "cell_type": "code",
      "source": [
        "#10. What is the best way to remove whitespace characters from the start or end?"
      ],
      "metadata": {
        "id": "zZv4b3kkFQYG"
      },
      "execution_count": 11,
      "outputs": []
    },
    {
      "cell_type": "code",
      "source": [
        "#ans-- > The lstrip() and rstrip() methods remove whitespace from the left and right ends of a string, respectively."
      ],
      "metadata": {
        "id": "5_sLmOC7FTjN"
      },
      "execution_count": 12,
      "outputs": []
    },
    {
      "cell_type": "code",
      "source": [
        "text1 = '     Ineuron      ' \n",
        "text2 = text1.lstrip()\n",
        "print(text2)\n"
      ],
      "metadata": {
        "colab": {
          "base_uri": "https://localhost:8080/"
        },
        "id": "k_gO56JPFa4s",
        "outputId": "b4ff45a4-4085-487b-d302-e6e921e3561f"
      },
      "execution_count": 18,
      "outputs": [
        {
          "output_type": "stream",
          "name": "stdout",
          "text": [
            "Ineuron      \n",
            "Ineuron      \n"
          ]
        }
      ]
    },
    {
      "cell_type": "code",
      "source": [
        "text1 = '     Ineuron      ' \n",
        "text3 = text1.rstrip()\n",
        "print(text3)"
      ],
      "metadata": {
        "colab": {
          "base_uri": "https://localhost:8080/"
        },
        "id": "cVCGLLEvFzcP",
        "outputId": "78bcca8b-5eb7-48a4-9b47-741e675c83e4"
      },
      "execution_count": 20,
      "outputs": [
        {
          "output_type": "stream",
          "name": "stdout",
          "text": [
            "     Ineuron\n"
          ]
        }
      ]
    },
    {
      "cell_type": "code",
      "source": [],
      "metadata": {
        "id": "o47wabIKGXvO"
      },
      "execution_count": null,
      "outputs": []
    }
  ]
}