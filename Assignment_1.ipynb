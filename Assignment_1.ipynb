{
  "nbformat": 4,
  "nbformat_minor": 0,
  "metadata": {
    "colab": {
      "provenance": [],
      "collapsed_sections": []
    },
    "kernelspec": {
      "name": "python3",
      "display_name": "Python 3"
    },
    "language_info": {
      "name": "python"
    }
  },
  "cells": [
    {
      "cell_type": "markdown",
      "source": [
        "1. In the below elements which of them are values or an expression? eg:- values can be integer or string and expressions will be mathematical operators.\n",
        "* \n",
        "'hello'\n",
        "-87.8\n",
        "- \n",
        "/ \n",
        "+\t\n",
        "6 \n"
      ],
      "metadata": {
        "id": "8o77kTKTO-9S"
      }
    },
    {
      "cell_type": "code",
      "execution_count": null,
      "metadata": {
        "id": "LIEbdIG9O2Un"
      },
      "outputs": [],
      "source": [
        "\"\"\" Values are 1)87.8  2) 6 3) hello\n",
        "    & Expression is   1) /\n",
        "\"\"\"\"\n"
      ]
    },
    {
      "cell_type": "markdown",
      "source": [
        "\n",
        "2. What is the difference between string and variable?\n"
      ],
      "metadata": {
        "id": "-BszexqRPxtN"
      }
    },
    {
      "cell_type": "code",
      "source": [
        "\"\"\" variable :- 'Variable  is a name that can refer to any value.'\n",
        "                 variables use to store data in a program. you can think of them as an empty box thaT we can fill with data or value.\n",
        "\n",
        "    String :- 'string is a value representing text.'\n",
        "               string is a datatype that can be assigned to variable.\n",
        "           \n",
        "           \n"
      ],
      "metadata": {
        "id": "KZqSrIpiPz9T"
      },
      "execution_count": null,
      "outputs": []
    },
    {
      "cell_type": "markdown",
      "source": [
        "3. Describe three different data types."
      ],
      "metadata": {
        "id": "_R10Framc7up"
      }
    },
    {
      "cell_type": "code",
      "source": [
        "\"\"\"\"\n",
        "1) int = int data type used to store integer Nos Eg: 10,20,24\n",
        "2) float = float data type used to store fractional or decinmal Nos. Eg: 21.324,54.21,\n",
        "3) str = str data type used to store text value Eg: \"Ineuron\", \"Hello World\""
      ],
      "metadata": {
        "id": "CXH7xqM0c_HC"
      },
      "execution_count": null,
      "outputs": []
    },
    {
      "cell_type": "markdown",
      "source": [
        "4. What is an expression made up of? What do all expressions do?"
      ],
      "metadata": {
        "id": "7pE3jpbsjjy4"
      }
    },
    {
      "cell_type": "code",
      "source": [
        "\"\"\"\n",
        "An Expression is a combination of Operators, Operands(value or variable)\n",
        "this will produce some other value.\n",
        "\n",
        "\"\"\""
      ],
      "metadata": {
        "id": "IToJALH0jpZE"
      },
      "execution_count": null,
      "outputs": []
    },
    {
      "cell_type": "markdown",
      "source": [
        "5. This assignment statements, like spam = 10. What is the difference between an expression and a statement?"
      ],
      "metadata": {
        "id": "QwFzPxI4mik1"
      }
    },
    {
      "cell_type": "code",
      "source": [
        "\"\"\"\n",
        "Expression:- expression is a combination of values and functions that are combined\n",
        "& interpretd by the compiler t cretae a ne value.\n",
        "\n",
        "Statement:- statement is just a standalone unit of execution and doesn't \n",
        "return anything.this can not be converted into single value.\n",
        "\n",
        "\"\"\""
      ],
      "metadata": {
        "colab": {
          "base_uri": "https://localhost:8080/",
          "height": 87
        },
        "id": "X5UGfTYQmjK7",
        "outputId": "d2517bb7-8dde-40b8-a0a6-327cd21563ce"
      },
      "execution_count": 1,
      "outputs": [
        {
          "output_type": "execute_result",
          "data": {
            "text/plain": [
              "\"\\nExpression:- expression is a combination of values and functions that are combined\\n& interpretd by the compiler t cretae a ne value.\\n\\nStatement:- statement is just a standalone unit of execution and doesn't return anything.this can not be converted into single value.\\n\\n\""
            ],
            "application/vnd.google.colaboratory.intrinsic+json": {
              "type": "string"
            }
          },
          "metadata": {},
          "execution_count": 1
        }
      ]
    },
    {
      "cell_type": "markdown",
      "source": [
        "6. After running the following code, what does the variable bacon contain?\n",
        "bacon = 22\n",
        "bacon + 1\n"
      ],
      "metadata": {
        "id": "eHwH5TSmw2AE"
      }
    },
    {
      "cell_type": "code",
      "source": [
        "bacon = 22\n",
        "bacon + 1 \n",
        "print(bacon)"
      ],
      "metadata": {
        "colab": {
          "base_uri": "https://localhost:8080/"
        },
        "id": "t5RqyUVXwgJX",
        "outputId": "7a1d596e-b943-4da9-c408-bf450336aa86"
      },
      "execution_count": 6,
      "outputs": [
        {
          "output_type": "stream",
          "name": "stdout",
          "text": [
            "22\n"
          ]
        }
      ]
    },
    {
      "cell_type": "markdown",
      "source": [
        "7. What should the values of the following two terms be?\n",
        "'spam' + 'spamspam'\n",
        "'spam' * 3\n"
      ],
      "metadata": {
        "id": "xYxPyAScw5MQ"
      }
    },
    {
      "cell_type": "code",
      "source": [
        "'spam' +  'spamspam'\n"
      ],
      "metadata": {
        "colab": {
          "base_uri": "https://localhost:8080/",
          "height": 35
        },
        "id": "xKgUL6Y9w4Jm",
        "outputId": "3aebae98-3196-484a-90d9-a661a7462baf"
      },
      "execution_count": 17,
      "outputs": [
        {
          "output_type": "execute_result",
          "data": {
            "text/plain": [
              "'spamspamspam'"
            ],
            "application/vnd.google.colaboratory.intrinsic+json": {
              "type": "string"
            }
          },
          "metadata": {},
          "execution_count": 17
        }
      ]
    },
    {
      "cell_type": "code",
      "source": [
        "'spam' * 3"
      ],
      "metadata": {
        "colab": {
          "base_uri": "https://localhost:8080/",
          "height": 35
        },
        "id": "S4EMnYzKxPR-",
        "outputId": "069ad99f-9e64-405f-d43f-a6d427577f51"
      },
      "execution_count": 16,
      "outputs": [
        {
          "output_type": "execute_result",
          "data": {
            "text/plain": [
              "'spamspamspam'"
            ],
            "application/vnd.google.colaboratory.intrinsic+json": {
              "type": "string"
            }
          },
          "metadata": {},
          "execution_count": 16
        }
      ]
    },
    {
      "cell_type": "markdown",
      "source": [
        "8. Why is eggs a valid variable name while 100 is invalid?"
      ],
      "metadata": {
        "id": "iIH3m8GqxbXM"
      }
    },
    {
      "cell_type": "code",
      "source": [
        "\"\"\"  \n",
        "variable name must be start with  alphabets or _ \n",
        "variable eggs start with alphabet\n",
        "variable 100 start with No. which is not valid\n",
        "\n",
        "\"\"\""
      ],
      "metadata": {
        "colab": {
          "base_uri": "https://localhost:8080/",
          "height": 52
        },
        "id": "mkQq3jQdxQsX",
        "outputId": "f8db8408-0367-418d-f668-f91cce7325c0"
      },
      "execution_count": 13,
      "outputs": [
        {
          "output_type": "execute_result",
          "data": {
            "text/plain": [
              "'  \\nvariable name must be start with  alphabets or _ \\nvariable eggs start with alphabet\\nvariable 100 start with No. which is not valid\\n\\n'"
            ],
            "application/vnd.google.colaboratory.intrinsic+json": {
              "type": "string"
            }
          },
          "metadata": {},
          "execution_count": 13
        }
      ]
    },
    {
      "cell_type": "markdown",
      "source": [
        "9. What three functions can be used to get the integer, floating-point number, or string version of a value?"
      ],
      "metadata": {
        "id": "04YKB2FHyHf7"
      }
    },
    {
      "cell_type": "code",
      "source": [
        "\"\"\"\n",
        "for integer : int()\n",
        "for floatinf point number : float()\n",
        "for string :  str()\n",
        "\n",
        "\"\"\""
      ],
      "metadata": {
        "colab": {
          "base_uri": "https://localhost:8080/",
          "height": 35
        },
        "id": "U5CiS13e1atS",
        "outputId": "925c5f57-3935-44e8-8ed5-fd97180dcd4c"
      },
      "execution_count": 12,
      "outputs": [
        {
          "output_type": "execute_result",
          "data": {
            "text/plain": [
              "'\\nfor integer : int()\\nfor floatinf point number : float()\\nfor string :  str()\\n\\n'"
            ],
            "application/vnd.google.colaboratory.intrinsic+json": {
              "type": "string"
            }
          },
          "metadata": {},
          "execution_count": 12
        }
      ]
    },
    {
      "cell_type": "markdown",
      "source": [
        "10. Why does this expression cause an error? How can you fix it?\n",
        "'I have eaten ' + 99 + ' burritos.'\n"
      ],
      "metadata": {
        "id": "SQOr0stV2r5A"
      }
    },
    {
      "cell_type": "code",
      "source": [
        "\"\"\"\n",
        "convert 99 to string by adding \" at the start & end\n",
        "because 99 is integer, data type matters for + operators.\n",
        "\"\"\""
      ],
      "metadata": {
        "colab": {
          "base_uri": "https://localhost:8080/",
          "height": 52
        },
        "id": "mw9f0jmH2whx",
        "outputId": "3f2e2cb8-95e9-4f35-8460-05c2bef91a33"
      },
      "execution_count": 14,
      "outputs": [
        {
          "output_type": "execute_result",
          "data": {
            "text/plain": [
              "'\\nconvert 99 to string by adding \" at the start & end\\nbecause 99 is integer, data type matters for + operators.\\n'"
            ],
            "application/vnd.google.colaboratory.intrinsic+json": {
              "type": "string"
            }
          },
          "metadata": {},
          "execution_count": 14
        }
      ]
    },
    {
      "cell_type": "code",
      "source": [
        "'I have eaten ' + '99' + ' burritos.'\n"
      ],
      "metadata": {
        "colab": {
          "base_uri": "https://localhost:8080/",
          "height": 35
        },
        "id": "pkUFll0q3EfC",
        "outputId": "3d008f1b-65f1-474c-9336-c06ddf3b492b"
      },
      "execution_count": 15,
      "outputs": [
        {
          "output_type": "execute_result",
          "data": {
            "text/plain": [
              "'I have eaten 99 burritos.'"
            ],
            "application/vnd.google.colaboratory.intrinsic+json": {
              "type": "string"
            }
          },
          "metadata": {},
          "execution_count": 15
        }
      ]
    },
    {
      "cell_type": "code",
      "source": [],
      "metadata": {
        "id": "yNDGHroE3vbR"
      },
      "execution_count": 15,
      "outputs": []
    }
  ]
}