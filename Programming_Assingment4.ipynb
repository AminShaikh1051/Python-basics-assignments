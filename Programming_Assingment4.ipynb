{
  "nbformat": 4,
  "nbformat_minor": 0,
  "metadata": {
    "colab": {
      "provenance": []
    },
    "kernelspec": {
      "name": "python3",
      "display_name": "Python 3"
    },
    "language_info": {
      "name": "python"
    }
  },
  "cells": [
    {
      "cell_type": "code",
      "execution_count": 1,
      "metadata": {
        "id": "KyVwitA6fBe7"
      },
      "outputs": [],
      "source": [
        "#q1 . Write a Python Program to Find the Factorial of a Number?"
      ]
    },
    {
      "cell_type": "code",
      "source": [
        "num = int(input(\"enter a No: \"))\n",
        "\n",
        "factorial = 1\n",
        "\n",
        "# check if the number is negative, positive or zero\n",
        "if num < 0 :\n",
        "    print(\"factorial exist for negative numbers\")\n",
        "elif num == 0 :\n",
        "    print(\"factorial of\",num,\"is\",factorial)\n",
        "else:\n",
        "    for i in range(1,num+1):\n",
        "        factorial = factorial * i\n",
        "    print(\"factorial of\",num,\"is\",factorial)\n"
      ],
      "metadata": {
        "colab": {
          "base_uri": "https://localhost:8080/"
        },
        "id": "eI6Tnu7VTWmR",
        "outputId": "638f4900-a557-47af-a8be-013353f0348e"
      },
      "execution_count": 2,
      "outputs": [
        {
          "output_type": "stream",
          "name": "stdout",
          "text": [
            "enter a No: 7\n",
            "factorial of 7 is 5040\n"
          ]
        }
      ]
    },
    {
      "cell_type": "code",
      "source": [
        "num = int(input(\"enter a No: \"))\n",
        "\n",
        "factorial = 1\n",
        "\n",
        "# check if the number is negative, positive or zero\n",
        "if num < 0 :\n",
        "    print(\"factorial doesn't exist for negative numbers\")\n",
        "elif num == 0 :\n",
        "    print(\"factorial of\",num,\"is\",factorial)\n",
        "else:\n",
        "    for i in range(1,num+1):\n",
        "        factorial = factorial * i\n",
        "    print(\"factorial of\",num,\"is\",factorial)"
      ],
      "metadata": {
        "colab": {
          "base_uri": "https://localhost:8080/"
        },
        "id": "6yx8E1XdTYVP",
        "outputId": "123d8178-abdd-42c0-f003-0172f557937c"
      },
      "execution_count": 4,
      "outputs": [
        {
          "output_type": "stream",
          "name": "stdout",
          "text": [
            "enter a No: -213\n",
            "factorial doesn't exist for negative numbers\n"
          ]
        }
      ]
    },
    {
      "cell_type": "code",
      "source": [
        "num = int(input(\"enter a No: \"))\n",
        "\n",
        "factorial = 1\n",
        "\n",
        "# check if the number is negative, positive or zero\n",
        "if num < 0 :\n",
        "    print(\"factorial doesn't exist for negative numbers\")\n",
        "elif num == 0 :\n",
        "    print(\"factorial of\",num,\"is\",factorial)\n",
        "else:\n",
        "    for i in range(1,num+1):\n",
        "        factorial = factorial * i\n",
        "    print(\"factorial of\",num,\"is\",factorial)"
      ],
      "metadata": {
        "colab": {
          "base_uri": "https://localhost:8080/"
        },
        "id": "sx7a-fAFTspG",
        "outputId": "92a266e9-1d8f-4936-a8ff-94627fe7306d"
      },
      "execution_count": 5,
      "outputs": [
        {
          "output_type": "stream",
          "name": "stdout",
          "text": [
            "enter a No: 0\n",
            "factorial of 0 is 1\n"
          ]
        }
      ]
    },
    {
      "cell_type": "code",
      "source": [
        "#q 2.\tWrite a Python Program to Display the multiplication Table?"
      ],
      "metadata": {
        "id": "o7vbA7BNT1AQ"
      },
      "execution_count": 6,
      "outputs": []
    },
    {
      "cell_type": "code",
      "source": [
        "num = int(input(\"enter a no: \"))\n",
        "\n",
        "for i in range(1,11):\n",
        "          multiplication = num * i\n",
        "          print(multiplication)"
      ],
      "metadata": {
        "colab": {
          "base_uri": "https://localhost:8080/"
        },
        "id": "TKkpV3nTT6Sp",
        "outputId": "182a84a9-058e-4454-d5fb-4eb38c6da6b0"
      },
      "execution_count": 7,
      "outputs": [
        {
          "output_type": "stream",
          "name": "stdout",
          "text": [
            "enter a no: 9\n",
            "9\n",
            "18\n",
            "27\n",
            "36\n",
            "45\n",
            "54\n",
            "63\n",
            "72\n",
            "81\n",
            "90\n"
          ]
        }
      ]
    },
    {
      "cell_type": "code",
      "source": [
        "#q3.\tWrite a Python Program to Print the Fibonacci sequence?\n"
      ],
      "metadata": {
        "id": "O766je2pT8j4"
      },
      "execution_count": 8,
      "outputs": []
    },
    {
      "cell_type": "code",
      "source": [
        "# ans -> 1 for fibonnacci series till nth term\n",
        "nth_term = int(input(\"till how many terms you want fobonaci series: \"))\n",
        "\n",
        "n1 = 0\n",
        "n2 = 1\n",
        "\n",
        "count = 0\n",
        "\n",
        "#check for the no term is valid\n",
        "if nth_term <=0 :\n",
        "    print('enter a positive Number')\n",
        "\n",
        "# if there is only one term, return n1\n",
        "elif nth_term == 1 :\n",
        "  print(n1)\n",
        "\n",
        "else:\n",
        "    print(\"fibonaacci sequence\")\n",
        "    while count < nth_term :\n",
        "      print(n1)\n",
        "      Nth = n1 + n2\n",
        "      # update values\n",
        "      n1 = n2\n",
        "      n2 = Nth\n",
        "\n",
        "      count = count + 1\n",
        "\n",
        "\n"
      ],
      "metadata": {
        "colab": {
          "base_uri": "https://localhost:8080/"
        },
        "id": "IoslH9z-UATv",
        "outputId": "a1e49a30-b611-4bb9-88e7-b9673d13a578"
      },
      "execution_count": 17,
      "outputs": [
        {
          "output_type": "stream",
          "name": "stdout",
          "text": [
            "till how many terms you want fobonaci series: 8\n",
            "fibonaacci sequence\n",
            "0\n",
            "1\n",
            "1\n",
            "2\n",
            "3\n",
            "5\n",
            "8\n",
            "13\n"
          ]
        }
      ]
    },
    {
      "cell_type": "code",
      "source": [
        "# ans -> 2 for fibonnacci series till N Number\n",
        "N = int(input(\"enter the no till you want fibonnacci series: \"))\n",
        "\n",
        "n1 = 0\n",
        "n2 = 1\n",
        "n3 = 0\n",
        "\n",
        "print(\"fibonaacci sequence\")\n",
        "while n3 < N :\n",
        "  print(n3)\n",
        "  n1 = n2\n",
        "  n2 = n3\n",
        "  n3 = n1 + n2\n",
        "\n",
        "      \n"
      ],
      "metadata": {
        "colab": {
          "base_uri": "https://localhost:8080/"
        },
        "id": "cp1jeuQdZcUk",
        "outputId": "15425b9b-a64d-49c3-a8cf-b53f6bd9a3b8"
      },
      "execution_count": 23,
      "outputs": [
        {
          "output_type": "stream",
          "name": "stdout",
          "text": [
            "enter the no till you want fibonnacci series: 20\n",
            "fibonaacci sequence\n",
            "0\n",
            "1\n",
            "1\n",
            "2\n",
            "3\n",
            "5\n",
            "8\n",
            "13\n"
          ]
        }
      ]
    },
    {
      "cell_type": "code",
      "source": [
        "#q 4.\tWrite a Python Program to Check Armstrong Number?"
      ],
      "metadata": {
        "id": "IiMN9EAbWeUR"
      },
      "execution_count": 21,
      "outputs": []
    },
    {
      "cell_type": "code",
      "source": [
        "n = int(input(\"enter a No: \"))\n",
        "\n",
        "sum = 0\n",
        "order = len(str(n))\n",
        "copy_n = n\n",
        "\n",
        "while n > 0:\n",
        "  digit = n % 10\n",
        "  sum = sum + (digit**order)\n",
        "  n = n // 10\n",
        "\n",
        "if sum == copy_n :\n",
        "  print(copy_n,\"is armstrong number\")\n",
        "\n",
        "else:\n",
        "  print(\"no is not armstrong\")\n"
      ],
      "metadata": {
        "colab": {
          "base_uri": "https://localhost:8080/"
        },
        "id": "sgOQEA6XbtWn",
        "outputId": "ff90b60f-1550-4097-ad06-fa6524a97228"
      },
      "execution_count": 27,
      "outputs": [
        {
          "output_type": "stream",
          "name": "stdout",
          "text": [
            "enter a No: 153\n",
            "153 is armstrong number\n"
          ]
        }
      ]
    },
    {
      "cell_type": "code",
      "source": [
        "n = int(input(\"enter a No: \"))\n",
        "\n",
        "sum = 0\n",
        "order = len(str(n))\n",
        "copy_n = n\n",
        "\n",
        "while n > 0:\n",
        "  digit = n % 10\n",
        "  sum = sum + (digit**order)\n",
        "  n = n // 10\n",
        "\n",
        "if sum == copy_n :\n",
        "  print(copy_n,\"is armstrong number\")\n",
        "\n",
        "else:\n",
        "  print(\"no is not armstrong\")"
      ],
      "metadata": {
        "colab": {
          "base_uri": "https://localhost:8080/"
        },
        "id": "_xhiJpc91-e3",
        "outputId": "6d5cdb72-3021-4c14-f184-284ace333a43"
      },
      "execution_count": 28,
      "outputs": [
        {
          "output_type": "stream",
          "name": "stdout",
          "text": [
            "enter a No: 8891\n",
            "no is not armstrong\n"
          ]
        }
      ]
    },
    {
      "cell_type": "code",
      "source": [
        "#q 5.\tWrite a Python Program to Find Armstrong Number in an Interval?"
      ],
      "metadata": {
        "id": "OpjjJJnz2Lme"
      },
      "execution_count": 29,
      "outputs": []
    },
    {
      "cell_type": "code",
      "source": [
        "start_range = int(input(\"enter a start of range: \"))\n",
        "end_range = int(input(\"enter a end of range: \"))\n",
        "\n",
        "for n in range(start_range,end_range+1):\n",
        "    sum = 0\n",
        "    order = len(str(n))\n",
        "    copy_n = n\n",
        "\n",
        "    while n > 0:\n",
        "      digit = n % 10\n",
        "      sum = sum + (digit**order)\n",
        "      n = n // 10\n",
        "\n",
        "    if sum == copy_n :\n",
        "      print(copy_n,\"is armstrong number\")\n",
        "\n",
        "    else:\n",
        "      pass   \n",
        "\n",
        "\n"
      ],
      "metadata": {
        "colab": {
          "base_uri": "https://localhost:8080/"
        },
        "id": "krw3Hxy-2Xad",
        "outputId": "7fc0ba52-027e-4091-f465-01d2b7ef0990"
      },
      "execution_count": 32,
      "outputs": [
        {
          "output_type": "stream",
          "name": "stdout",
          "text": [
            "enter a start of range: 1\n",
            "enter a end of range: 500\n",
            "1 is armstrong number\n",
            "2 is armstrong number\n",
            "3 is armstrong number\n",
            "4 is armstrong number\n",
            "5 is armstrong number\n",
            "6 is armstrong number\n",
            "7 is armstrong number\n",
            "8 is armstrong number\n",
            "9 is armstrong number\n",
            "153 is armstrong number\n",
            "370 is armstrong number\n",
            "371 is armstrong number\n",
            "407 is armstrong number\n"
          ]
        }
      ]
    },
    {
      "cell_type": "code",
      "source": [
        "start_range = int(input(\"enter a start of range: \"))\n",
        "end_range = int(input(\"enter a end of range: \"))\n",
        "\n",
        "for n in range(start_range,end_range+1):\n",
        "    sum = 0\n",
        "    order = len(str(n))\n",
        "    copy_n = n\n",
        "\n",
        "    while n > 0:\n",
        "      digit = n % 10\n",
        "      sum = sum + (digit**order)\n",
        "      n = n // 10\n",
        "\n",
        "    if sum == copy_n :\n",
        "      print(copy_n,\"is armstrong number\")\n",
        "\n",
        "    else:\n",
        "      pass   \n"
      ],
      "metadata": {
        "colab": {
          "base_uri": "https://localhost:8080/"
        },
        "id": "2hOs0T1v3FEu",
        "outputId": "05396138-9467-4fc7-a598-2bed247162fb"
      },
      "execution_count": 34,
      "outputs": [
        {
          "output_type": "stream",
          "name": "stdout",
          "text": [
            "enter a start of range: 1\n",
            "enter a end of range: 3000\n",
            "1 is armstrong number\n",
            "2 is armstrong number\n",
            "3 is armstrong number\n",
            "4 is armstrong number\n",
            "5 is armstrong number\n",
            "6 is armstrong number\n",
            "7 is armstrong number\n",
            "8 is armstrong number\n",
            "9 is armstrong number\n",
            "153 is armstrong number\n",
            "370 is armstrong number\n",
            "371 is armstrong number\n",
            "407 is armstrong number\n",
            "1634 is armstrong number\n"
          ]
        }
      ]
    },
    {
      "cell_type": "code",
      "source": [
        "#q6.\tWrite a Python Program to Find the Sum of Natural Numbers?"
      ],
      "metadata": {
        "id": "0DZBiV9K32bO"
      },
      "execution_count": 35,
      "outputs": []
    },
    {
      "cell_type": "code",
      "source": [
        "n = int(input(\"enter a no: \"))\n",
        "\n",
        "sum = 0\n",
        "\n",
        "for i in range(1,n+1):\n",
        "  sum = sum + i\n",
        "\n",
        "print(\"sum of natural No till\", n , \"is\",sum)\n"
      ],
      "metadata": {
        "colab": {
          "base_uri": "https://localhost:8080/"
        },
        "id": "TIpaoMHt4IYV",
        "outputId": "70641278-d17b-448c-d0aa-cf01748580df"
      },
      "execution_count": 40,
      "outputs": [
        {
          "output_type": "stream",
          "name": "stdout",
          "text": [
            "enter a no: 10\n",
            "sum of natural No till 10 is 55\n"
          ]
        }
      ]
    },
    {
      "cell_type": "code",
      "source": [
        "n = int(input(\"enter a no: \"))\n",
        "\n",
        "sum = 0\n",
        "\n",
        "for i in range(1,n+1):\n",
        "  sum = sum + i\n",
        "\n",
        "print(\"sum of natural No till\", n , \"is\",sum)\n"
      ],
      "metadata": {
        "colab": {
          "base_uri": "https://localhost:8080/"
        },
        "id": "wRRu-k_94baN",
        "outputId": "f4dac411-abd5-470d-f97b-408dbe224dcd"
      },
      "execution_count": 41,
      "outputs": [
        {
          "output_type": "stream",
          "name": "stdout",
          "text": [
            "enter a no: 20\n",
            "sum of natural No till 20 is 210\n"
          ]
        }
      ]
    },
    {
      "cell_type": "code",
      "source": [],
      "metadata": {
        "id": "ON9XlR-247Wu"
      },
      "execution_count": null,
      "outputs": []
    }
  ]
}