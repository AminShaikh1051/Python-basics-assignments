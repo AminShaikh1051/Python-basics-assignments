{
  "nbformat": 4,
  "nbformat_minor": 0,
  "metadata": {
    "colab": {
      "provenance": []
    },
    "kernelspec": {
      "name": "python3",
      "display_name": "Python 3"
    },
    "language_info": {
      "name": "python"
    }
  },
  "cells": [
    {
      "cell_type": "code",
      "execution_count": null,
      "metadata": {
        "id": "pscH8WT3IdS7"
      },
      "outputs": [],
      "source": [
        "#1. What is the name of the feature responsible for generating Regex objects?"
      ]
    },
    {
      "cell_type": "code",
      "source": [
        "#ans--> The re.compile() function returns Regex objects."
      ],
      "metadata": {
        "id": "HmPvS_3hKleH"
      },
      "execution_count": null,
      "outputs": []
    },
    {
      "cell_type": "code",
      "source": [
        "#2. Why do raw strings often appear in Regex objects?\n",
        "#ans--> Raw strings are used so that backslashes do not have to be escaped."
      ],
      "metadata": {
        "id": "QQVwOnjBKpfr"
      },
      "execution_count": null,
      "outputs": []
    },
    {
      "cell_type": "code",
      "source": [
        "x=\"Hi\\nhello world\"\n",
        "print(x)"
      ],
      "metadata": {
        "colab": {
          "base_uri": "https://localhost:8080/"
        },
        "id": "iL2PdA-iK2E-",
        "outputId": "533c55b0-be63-40ca-ee86-7fd756603ee3"
      },
      "execution_count": null,
      "outputs": [
        {
          "output_type": "stream",
          "name": "stdout",
          "text": [
            "Hi\n",
            "hello world\n"
          ]
        }
      ]
    },
    {
      "cell_type": "code",
      "source": [
        "y=r\"Hi\\nhello world\"\n",
        "print(y)"
      ],
      "metadata": {
        "colab": {
          "base_uri": "https://localhost:8080/"
        },
        "id": "eepJxWqSP7dH",
        "outputId": "67caada7-f599-44a6-d379-23d3a13aed43"
      },
      "execution_count": null,
      "outputs": [
        {
          "output_type": "stream",
          "name": "stdout",
          "text": [
            "Hi\\nhello world\n"
          ]
        }
      ]
    },
    {
      "cell_type": "code",
      "source": [
        "#3. What is the return value of the search() method?"
      ],
      "metadata": {
        "id": "bEizuc9sP9vM"
      },
      "execution_count": null,
      "outputs": []
    },
    {
      "cell_type": "code",
      "source": [
        "#ans--> The search() method returns Match objects."
      ],
      "metadata": {
        "id": "vKDnwKX4QEE8"
      },
      "execution_count": null,
      "outputs": []
    },
    {
      "cell_type": "code",
      "source": [
        "#4. From a Match item, how do you get the actual strings that match the pattern?\n",
        "#ans--> The group() method returns strings of the matched text."
      ],
      "metadata": {
        "id": "ml0sJrZ1QUt8"
      },
      "execution_count": null,
      "outputs": []
    },
    {
      "cell_type": "code",
      "source": [
        "#5. In the regex which created from the r'(\\d\\d\\d)-(\\d\\d\\d-\\d\\d\\d\\d)', what does group zero cover? Group 2? Group 1?\n",
        "#ans--> Group 0 is the entire match, group 1 covers the first set of parentheses, and group 2 covers the second set of parentheses."
      ],
      "metadata": {
        "id": "P5Mn_BmlQ-QN"
      },
      "execution_count": null,
      "outputs": []
    },
    {
      "cell_type": "code",
      "source": [
        "#6. In standard expression syntax, parentheses and intervals have distinct meanings. How can you tell a regex that you want it to fit real parentheses and periods?\n",
        "#ans--. Periods and parentheses can be escaped with a backslash: \\., \\(, and \\)."
      ],
      "metadata": {
        "id": "6u8KRB-PXuId"
      },
      "execution_count": null,
      "outputs": []
    },
    {
      "cell_type": "code",
      "source": [
        "#7. The findall() method returns a string list or a list of string tuples. What causes it to return one of the two options?\n",
        "#If the regex has no groups, a list of strings is returned. If the regex has groups, a list of tuples of strings is returned."
      ],
      "metadata": {
        "id": "0mvIVX-CX56T"
      },
      "execution_count": null,
      "outputs": []
    },
    {
      "cell_type": "code",
      "source": [
        "#8. In standard expressions, what does the | character mean?\n",
        "# ans--> The | character signifies matching \"either, or\" between two groups."
      ],
      "metadata": {
        "id": "b5lan3LHYDBr"
      },
      "execution_count": null,
      "outputs": []
    },
    {
      "cell_type": "code",
      "source": [
        "#9. In regular expressions, what does the character stand for?\n",
        "#ans--> The ? character can either mean \"match zero or one of the preceding group\" or be used to signify nongreedy matching."
      ],
      "metadata": {
        "id": "oGvt1VcbYLQM"
      },
      "execution_count": null,
      "outputs": []
    },
    {
      "cell_type": "code",
      "source": [
        "#10.In regular expressions, what is the difference between the + and * characters?\n",
        "#ans--> The + matches one or more. The * matches zero or more."
      ],
      "metadata": {
        "id": "amjuQntFYkbc"
      },
      "execution_count": null,
      "outputs": []
    },
    {
      "cell_type": "code",
      "source": [
        "#11. What is the difference between {4} and {4,5} in regular expression?\n",
        "# ans--> The {4} matches exactly three instances of the preceding group. The {4,5} matches between three and five instances."
      ],
      "metadata": {
        "id": "2oGZoXVAY8Uj"
      },
      "execution_count": null,
      "outputs": []
    },
    {
      "cell_type": "code",
      "source": [
        "#12. What do you mean by the \\d, \\w, and \\s shorthand character classes signify in regular expressions?\n",
        "#ans--> The \\d, \\w, and \\s shorthand character classes match a single digit, word, or space character, respectively."
      ],
      "metadata": {
        "id": "utHfIyk2ZU74"
      },
      "execution_count": null,
      "outputs": []
    },
    {
      "cell_type": "code",
      "source": [
        "#13. What do means by \\D, \\W, and \\S shorthand character classes signify in regular expressions?\n",
        "#ans--> The \\D, \\W, and \\S shorthand character classes match a single character that is not a digit, word, or space character, respectively.\n"
      ],
      "metadata": {
        "id": "_1ECxWa2Z9Ls"
      },
      "execution_count": null,
      "outputs": []
    },
    {
      "cell_type": "code",
      "source": [
        "#14. What is the difference between .*? and .*?\n",
        "#ans--> The . performs a greedy match, and the .? performs a nongreedy match."
      ],
      "metadata": {
        "id": "KLmMSlpOaM1H"
      },
      "execution_count": null,
      "outputs": []
    },
    {
      "cell_type": "code",
      "source": [
        "#15. What is the syntax for matching both numbers and lowercase letters with a character class?\n",
        "#ans--> Either [0-9a-z] or [a-z0-9]"
      ],
      "metadata": {
        "id": "4qDdIaPYgC0R"
      },
      "execution_count": null,
      "outputs": []
    },
    {
      "cell_type": "code",
      "source": [
        "#16. What is the procedure for making a normal expression in regax case insensitive?\n",
        "#ans--> Passing re.I or re.IGNORECASE as the second argument to re.compile() will make the matching case insensitive."
      ],
      "metadata": {
        "id": "oBB8OoKbgSo1"
      },
      "execution_count": null,
      "outputs": []
    },
    {
      "cell_type": "code",
      "source": [
        "#17. What does the . character normally match? What does it match if re.DOTALL is passed as 2nd argument in re.compile()?\n",
        "#ans--> The . character normally matches any character except the newline character. If re.DOTALL is passed as the second argument to re.compile(), then the dot will also match newline characters."
      ],
      "metadata": {
        "id": "ju0xGahnjYt5"
      },
      "execution_count": 1,
      "outputs": []
    },
    {
      "cell_type": "code",
      "source": [
        "#18. If numReg = re.compile(r'\\d+'), what will numRegex.sub('X', '11 drummers, 10 pipers, five rings, 4 hen') return?\n",
        "#ans--> 'X drummers, X pipers, five rings, X hens'"
      ],
      "metadata": {
        "id": "DFM0L1-G4Fbi"
      },
      "execution_count": 2,
      "outputs": []
    },
    {
      "cell_type": "code",
      "source": [
        "#19. What does passing re.VERBOSE as the 2nd argument to re.compile() allow to do?\n",
        "#ans--> The re.VERBOSE argument allows you to add whitespace and comments to the string passed to re.compile()\n"
      ],
      "metadata": {
        "id": "RYU8raiq4R-O"
      },
      "execution_count": 3,
      "outputs": []
    },
    {
      "cell_type": "code",
      "source": [
        "\"\"\"#q20. How would you write a regex that match a number with comma for every three digits? It must match the given following:\n",
        "'42'\n",
        "'1,234'\n",
        "'6,368,745'\n",
        "but not the following:\n",
        "'12,34,567' (which has only two digits between the commas)\n",
        "'1234' (which lacks commas) \"\"\"\n",
        "#ans--> e.compile(r'^\\d{1,3}(,{3})*$') will create this regex, but other regex strings can produce a similar regular expression.\n"
      ],
      "metadata": {
        "id": "bgJUxry_4nOH"
      },
      "execution_count": null,
      "outputs": []
    },
    {
      "cell_type": "code",
      "source": [
        "\"\"\"#21. How would you write a regex that matches the full name of someone whose last name is Watanabe? You can assume that the first name that comes before it will always be one word that begins with a capital letter. The regex must match the following:\n",
        "'Haruto Watanabe'\n",
        "'Alice Watanabe'\n",
        "'RoboCop Watanabe'\n",
        "but not the following:\n",
        "'haruto Watanabe' (where the first name is not capitalized)\n",
        "'Mr. Watanabe' (where the preceding word has a nonletter character)\n",
        "'Watanabe' (which has no first name)\n",
        "'Haruto watanabe' (where Watanabe is not capitalized)  \"\"\"\n",
        "#ans--> re.compile(r'[A-Z][a-z]*\\sWatanabe')\n"
      ],
      "metadata": {
        "id": "KPfzkT6_5ahq"
      },
      "execution_count": null,
      "outputs": []
    },
    {
      "cell_type": "code",
      "source": [
        "\"\"\"#22. How would you write a regex that matches a sentence where the first word is either Alice, Bob, or Carol; the second word is either eats, pets, or throws; the third word is apples, cats, or baseballs; and the sentence ends with a period? This regex should be case-insensitive. It must match the following:\n",
        "'Alice eats apples.'\n",
        "'Bob pets cats.'\n",
        "'Carol throws baseballs.'\n",
        "'Alice throws Apples.'\n",
        "'BOB EATS CATS.'\n",
        "but not the following:\n",
        "'RoboCop eats apples.'\n",
        "'ALICE THROWS FOOTBALLS.'\n",
        "'Carol eats 7 cats.'   \"\"\"\n",
        "#ans--> re.compile(r'(Alice|Bob|Carol)\\s(eats|pets|throws)\\ s(apples|cats|baseballs)\\.', re.IGNORECASE)\n"
      ],
      "metadata": {
        "id": "D-2GrPDh5lF_"
      },
      "execution_count": null,
      "outputs": []
    }
  ]
}