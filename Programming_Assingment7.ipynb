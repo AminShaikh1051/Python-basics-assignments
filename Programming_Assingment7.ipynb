{
  "nbformat": 4,
  "nbformat_minor": 0,
  "metadata": {
    "colab": {
      "provenance": []
    },
    "kernelspec": {
      "name": "python3",
      "display_name": "Python 3"
    },
    "language_info": {
      "name": "python"
    }
  },
  "cells": [
    {
      "cell_type": "code",
      "execution_count": null,
      "metadata": {
        "id": "zsUc1e9yh7ae"
      },
      "outputs": [],
      "source": [
        "#1.\tWrite a Python Program to find sum of array?"
      ]
    },
    {
      "cell_type": "code",
      "source": [
        "list1 = [\"ineuron\",652,5478,27.2,\"pwskills\",45,954]\n",
        "\n",
        "sum = 0\n",
        "for i in list1 :\n",
        "  if type(i) == int or type(i) == float :\n",
        "    sum = sum + i\n",
        "\n",
        "print(f\"summation is {sum}\")\n"
      ],
      "metadata": {
        "id": "LLt5-7geiYHG",
        "colab": {
          "base_uri": "https://localhost:8080/"
        },
        "outputId": "9a135fc7-69ee-4479-c446-028e11e2d566"
      },
      "execution_count": 3,
      "outputs": [
        {
          "output_type": "stream",
          "name": "stdout",
          "text": [
            "summation is 7156.2\n"
          ]
        }
      ]
    },
    {
      "cell_type": "code",
      "source": [
        "#2.\tWrite a Python Program to find largest element in an array?\n",
        "l2 = [20,35,647,85548,655,2221]\n",
        "\n",
        "max = 0\n",
        "\n",
        "for i in l2 :\n",
        "  if i > max :\n",
        "    max = i\n",
        "\n",
        "print(f\"max value is {max}\")"
      ],
      "metadata": {
        "colab": {
          "base_uri": "https://localhost:8080/"
        },
        "id": "vIW9v6N7rlHS",
        "outputId": "85bd5296-3e6e-422d-a40e-7af38116a6e4"
      },
      "execution_count": 5,
      "outputs": [
        {
          "output_type": "stream",
          "name": "stdout",
          "text": [
            "max value is 85548\n"
          ]
        }
      ]
    },
    {
      "cell_type": "code",
      "source": [
        "#3.\tWrite a Python Program for array rotation?"
      ],
      "metadata": {
        "id": "v29Gq1Nh1K1J"
      },
      "execution_count": 6,
      "outputs": []
    },
    {
      "cell_type": "code",
      "source": [
        "l3 = [20,\"amin\",\"ineuron\",85548,655,2221]\n",
        "\n",
        "print(l3[::-1])"
      ],
      "metadata": {
        "colab": {
          "base_uri": "https://localhost:8080/"
        },
        "id": "n2QWFRxG1e7i",
        "outputId": "bbaebc79-efe2-4086-8874-6cef261ef359"
      },
      "execution_count": 7,
      "outputs": [
        {
          "output_type": "stream",
          "name": "stdout",
          "text": [
            "[2221, 655, 85548, 'ineuron', 'amin', 20]\n"
          ]
        }
      ]
    },
    {
      "cell_type": "code",
      "source": [
        "#4.\tWrite a Python Program to Split the array and add the first part to the end?\n",
        "\n",
        "l4 = [20,\"amin\",\"ineuron\",85548,655,2221]\n",
        "start_term = int(input(\"enter a No of term you want to shift to end: \"))\n",
        "\n",
        "end_list = l4[0:(start_term)]\n",
        "l4.extend(end_list)\n",
        "print(\"updated extended list: \",l4)\n",
        "#print(end_list)\n",
        "del l4[0:(start_term)]\n",
        "print(f\"new update list l4: \",l4)"
      ],
      "metadata": {
        "colab": {
          "base_uri": "https://localhost:8080/"
        },
        "id": "OUTpyCNb1mdG",
        "outputId": "0b20df6f-6097-43cb-b52d-c62b06773492"
      },
      "execution_count": 29,
      "outputs": [
        {
          "output_type": "stream",
          "name": "stdout",
          "text": [
            "enter a No of term you want to shift to end: 4\n",
            "updated extended list:  [20, 'amin', 'ineuron', 85548, 655, 2221, 20, 'amin', 'ineuron', 85548]\n",
            "new update list l4:  [655, 2221, 20, 'amin', 'ineuron', 85548]\n"
          ]
        }
      ]
    },
    {
      "cell_type": "code",
      "source": [
        "#5.\tWrite a Python Program to check if given array is Monotonic?"
      ],
      "metadata": {
        "id": "e9jrzzvoHbdt"
      },
      "execution_count": 31,
      "outputs": []
    },
    {
      "cell_type": "code",
      "source": [
        "l5 = [20,\"amin\",\"ineuron\",85548,655,2221]\n",
        "\n",
        "for i in l5 :\n",
        "  if type(l5[0]) != type(i) :\n",
        "    print(\"list is hetrogeneous\")\n",
        "    break\n",
        "\n",
        "else:\n",
        "  print(\"list is homogeneous\")"
      ],
      "metadata": {
        "colab": {
          "base_uri": "https://localhost:8080/"
        },
        "id": "1C2UWhVAHiNr",
        "outputId": "54988edf-333e-49bf-d5a6-7a29ea3fe925"
      },
      "execution_count": 35,
      "outputs": [
        {
          "output_type": "stream",
          "name": "stdout",
          "text": [
            "list is hetrogeneous\n"
          ]
        }
      ]
    },
    {
      "cell_type": "code",
      "source": [],
      "metadata": {
        "id": "YqC_fxrNI78b"
      },
      "execution_count": null,
      "outputs": []
    }
  ]
}