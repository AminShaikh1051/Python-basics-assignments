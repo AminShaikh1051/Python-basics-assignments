{
  "nbformat": 4,
  "nbformat_minor": 0,
  "metadata": {
    "colab": {
      "provenance": []
    },
    "kernelspec": {
      "name": "python3",
      "display_name": "Python 3"
    },
    "language_info": {
      "name": "python"
    }
  },
  "cells": [
    {
      "cell_type": "code",
      "execution_count": null,
      "metadata": {
        "id": "NH-lgGzuUmyq"
      },
      "outputs": [],
      "source": [
        "# 1) Write a Python program to print \"Hello Python\"?"
      ]
    },
    {
      "cell_type": "code",
      "source": [
        "print(\"Hello Python\")"
      ],
      "metadata": {
        "colab": {
          "base_uri": "https://localhost:8080/"
        },
        "id": "MplCDOidUwJB",
        "outputId": "6ebbcad1-be30-411d-b001-13d24f25d274"
      },
      "execution_count": 1,
      "outputs": [
        {
          "output_type": "stream",
          "name": "stdout",
          "text": [
            "Hello Python\n"
          ]
        }
      ]
    },
    {
      "cell_type": "code",
      "source": [
        "# 2) Write a Python program to do arithmetical operations addition and division.?"
      ],
      "metadata": {
        "id": "1AlxeSPNU0pS"
      },
      "execution_count": null,
      "outputs": []
    },
    {
      "cell_type": "code",
      "source": [
        "x = float(input(\"Enter first Number\"))\n",
        "y = float(input(\"Enter first Number\"))\n",
        "\n",
        "print(f\" Addition of 2 no is: {x+y}\")\n",
        "print(f\" Addition of 2 no is: {x/y}\")"
      ],
      "metadata": {
        "colab": {
          "base_uri": "https://localhost:8080/"
        },
        "id": "wQ-D9IqyVJgq",
        "outputId": "6d83569f-a904-4157-e33d-8a76df5f3d50"
      },
      "execution_count": 2,
      "outputs": [
        {
          "output_type": "stream",
          "name": "stdout",
          "text": [
            "Enter first Number10\n",
            "Enter first Number2\n",
            " Addition of 2 no is: 12.0\n",
            " Addition of 2 no is: 5.0\n"
          ]
        }
      ]
    },
    {
      "cell_type": "code",
      "source": [
        "# 3) Write a Python program to find the area of a triangle?"
      ],
      "metadata": {
        "id": "hxzKbskUVg70"
      },
      "execution_count": null,
      "outputs": []
    },
    {
      "cell_type": "code",
      "source": [
        "base_of_triangle = float(input(\"enter the value for base of Triangle: \"))\n",
        "height_of_triangle = float(input(\"enter the value for height of Triangle: \"))\n",
        "\n",
        "area_of_triangle = (1/2)*(base_of_triangle)*(height_of_triangle)\n",
        "print(f\"Area of Triangle is: {area_of_triangle}\")"
      ],
      "metadata": {
        "colab": {
          "base_uri": "https://localhost:8080/"
        },
        "id": "kgQdFLPeVqej",
        "outputId": "bd5b6c36-edb3-42af-e5ca-0821bcb9ffb4"
      },
      "execution_count": 3,
      "outputs": [
        {
          "output_type": "stream",
          "name": "stdout",
          "text": [
            "enter the value for base of Triangle: 10\n",
            "enter the value for height of Triangle: 32\n",
            "Area of Triangle is: 160.0\n"
          ]
        }
      ]
    },
    {
      "cell_type": "code",
      "source": [
        "# 4) Write a Python program to swap two variables?"
      ],
      "metadata": {
        "id": "i12hxy5eWdej"
      },
      "execution_count": 4,
      "outputs": []
    },
    {
      "cell_type": "code",
      "source": [
        "x = float(input(\"Enter value of x: \"))\n",
        "y = float(input(\"Enter value of y: \"))\n",
        "\n",
        "x,y = y,x\n",
        "\n",
        "print(f\"new value of x is: {x}\")\n",
        "print(f\"new value of x is: {y}\")"
      ],
      "metadata": {
        "colab": {
          "base_uri": "https://localhost:8080/"
        },
        "id": "XqwHfkA3WoVz",
        "outputId": "352dcf36-4e7d-48bd-c357-56acca9530e6"
      },
      "execution_count": 10,
      "outputs": [
        {
          "output_type": "stream",
          "name": "stdout",
          "text": [
            "Enter value of x: 20\n",
            "Enter value of y: 30\n",
            "new value of x is: 30.0\n",
            "new value of x is: 20.0\n"
          ]
        }
      ]
    },
    {
      "cell_type": "code",
      "source": [
        "# 5) Write a Python program to generate a random number? "
      ],
      "metadata": {
        "id": "EVlYBWXMZHYN"
      },
      "execution_count": 11,
      "outputs": []
    },
    {
      "cell_type": "code",
      "source": [
        "import random\n",
        "\n",
        "print(random.randint(32,55))"
      ],
      "metadata": {
        "colab": {
          "base_uri": "https://localhost:8080/"
        },
        "id": "TtFgyCF8cchu",
        "outputId": "3be32223-86f9-4787-c4b0-791c4aea9418"
      },
      "execution_count": 21,
      "outputs": [
        {
          "output_type": "stream",
          "name": "stdout",
          "text": [
            "43\n"
          ]
        }
      ]
    },
    {
      "cell_type": "code",
      "source": [],
      "metadata": {
        "id": "iZ3Go1rie7iK"
      },
      "execution_count": null,
      "outputs": []
    }
  ]
}