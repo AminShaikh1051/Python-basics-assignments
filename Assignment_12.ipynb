{
  "nbformat": 4,
  "nbformat_minor": 0,
  "metadata": {
    "colab": {
      "provenance": []
    },
    "kernelspec": {
      "name": "python3",
      "display_name": "Python 3"
    },
    "language_info": {
      "name": "python"
    }
  },
  "cells": [
    {
      "cell_type": "code",
      "execution_count": 1,
      "metadata": {
        "id": "DkNHGZvSdD_Z"
      },
      "outputs": [],
      "source": [
        "#1. In what modes should the PdfFileReader() and PdfFileWriter() File objects will be opened?\n",
        "# ans --> File objects need to be opened in read-binary ('rb') for Reader objects and write-binary ('wb') for Writer objects."
      ]
    },
    {
      "cell_type": "code",
      "source": [
        "#2. From a PdfFileReader object, how do you get a Page object for page 5?\n",
        "# ans -- > Calling getPage(4) will return a Page object for About this Book, since page 0 is the first page."
      ],
      "metadata": {
        "id": "3Ga6KjYIenZK"
      },
      "execution_count": null,
      "outputs": []
    },
    {
      "cell_type": "code",
      "source": [
        "#3. What PdfFileReader variable stores the number of pages in the PDF document?\n",
        "# ans --> The numPages variable stores an integer of the number of pages in the PdfFileReader object."
      ],
      "metadata": {
        "id": "sm83jkUCfLtz"
      },
      "execution_count": null,
      "outputs": []
    },
    {
      "cell_type": "code",
      "source": [
        "#4. If a PdfFileReader object’s PDF is encrypted with the password swordfish, what must you do before you can obtain Page objects from it?\n",
        "#ans --> Call decrypt('swordfish')"
      ],
      "metadata": {
        "id": "Cl1RaamkfdQJ"
      },
      "execution_count": null,
      "outputs": []
    },
    {
      "cell_type": "code",
      "source": [
        "#5. What methods do you use to rotate a page?\n",
        "# ans --> \n",
        "#pageObj.rotateClockwise(180)\n",
        "\n",
        "#The rotateClockwise() and rotateCounterClockwise() methods. The degrees to rotate is passed as an integer argument"
      ],
      "metadata": {
        "id": "R3mykECAgPXh"
      },
      "execution_count": null,
      "outputs": []
    },
    {
      "cell_type": "code",
      "source": [
        "#6. What is the difference between a Run object and a Paragraph object?\n",
        "#  ans -- > Paragraph Object : A document contains multiple paragraphs. A paragraph begins on a new line and contains multiple\n",
        "# runs. The Document object contains a list of Paragraph objects for the paragraphs in the document. (A new paragraph begins whenever the user presses ENTER or RETURN while typing in a Word document.)\n",
        "\n",
        "# Run Objects : Runs are contiguous groups of characters within a paragraph with the same style"
      ],
      "metadata": {
        "id": "-vYJQ0emhsNl"
      },
      "execution_count": null,
      "outputs": []
    },
    {
      "cell_type": "code",
      "source": [
        "#7. How do you obtain a list of Paragraph objects for a Document object that’s stored in a variable named doc?\n",
        "# ans -- > \n",
        "#!pip install python-docx\n",
        "import docx\n",
        "doc = docx.Document('abc.docx')\n",
        "doc.paragraphs\n",
        "By using doc.paragraphs"
      ],
      "metadata": {
        "id": "UYgUoZ5fiomJ"
      },
      "execution_count": null,
      "outputs": []
    },
    {
      "cell_type": "code",
      "source": [
        "#8. What type of object has bold, underline, italic, strike, and outline variables?\n",
        "# ans --> A Run object has bold, underline,italic,strike and outline variables"
      ],
      "metadata": {
        "id": "oWLE7JacjCWq"
      },
      "execution_count": null,
      "outputs": []
    },
    {
      "cell_type": "code",
      "source": [
        "#9. What is the difference between False, True, and None for the bold variable?\n",
        "#ans --> A Run object has bold, underline,italic,strike and outline variables"
      ],
      "metadata": {
        "id": "sjgCK6lyjKns"
      },
      "execution_count": null,
      "outputs": []
    },
    {
      "cell_type": "code",
      "source": [
        "#10. How do you create a Document object for a new Word document?\n",
        "# ans --> By Calling the docx.Document() function."
      ],
      "metadata": {
        "id": "q3BBcTDtsEMW"
      },
      "execution_count": null,
      "outputs": []
    },
    {
      "cell_type": "code",
      "source": [
        "#11. How do you add a paragraph with the text 'Hello, there!' to a Document object stored in a variable named doc?\n",
        "# ans--> import docx\n",
        "doc = docx.Document()\n",
        "\n",
        "doc.add_paragraph('Hello there!')\n",
        "doc.save('hellothere.docx')"
      ],
      "metadata": {
        "id": "puQlqdpPuWSF"
      },
      "execution_count": null,
      "outputs": []
    },
    {
      "cell_type": "code",
      "source": [
        "#12. What integers represent the levels of headings available in Word documents?\n",
        "# # ans --> integer from 0 to 4\n",
        "# The arguments to add_heading() are a string of the heading text and an integer from 0 to 4. The integer 0 makes the heading the Title style, which is used for the top of the document. Integers 1 to 4 are for various heading levels, with 1 being the main heading and 4 the lowest subheading"
      ],
      "metadata": {
        "id": "S78b2ok7ukL0"
      },
      "execution_count": null,
      "outputs": []
    }
  ]
}