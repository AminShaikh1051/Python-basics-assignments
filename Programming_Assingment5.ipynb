{
  "nbformat": 4,
  "nbformat_minor": 0,
  "metadata": {
    "colab": {
      "provenance": []
    },
    "kernelspec": {
      "name": "python3",
      "display_name": "Python 3"
    },
    "language_info": {
      "name": "python"
    }
  },
  "cells": [
    {
      "cell_type": "code",
      "execution_count": 1,
      "metadata": {
        "id": "ruDZ7NGgkxJB"
      },
      "outputs": [],
      "source": [
        "#q 1.\tWrite a Python Program to Find LCM?"
      ]
    },
    {
      "cell_type": "code",
      "source": [
        "a = int(input(\"enter number: \"))\n",
        "b = int(input(\"enter number: \"))\n",
        "\n",
        "bigger_number = max(a,b)\n",
        "\n",
        "\n",
        "for i in range(bigger_number,(a*b)+1):\n",
        "  if i % a == 0 and i % b == 0:\n",
        "    print(\"LCM of\",a, \"&\", b , \"is\" ,i)\n",
        "    break\n"
      ],
      "metadata": {
        "colab": {
          "base_uri": "https://localhost:8080/"
        },
        "id": "iHuJlJwdlUIN",
        "outputId": "3c0a5aee-0e63-4643-eb09-5f028938a44f"
      },
      "execution_count": 9,
      "outputs": [
        {
          "output_type": "stream",
          "name": "stdout",
          "text": [
            "enter number: 24\n",
            "enter number: 12\n",
            "LCM of 24 & 12 is 24\n"
          ]
        }
      ]
    },
    {
      "cell_type": "code",
      "source": [
        "#q 2.\tWrite a Python Program to Find HCF?"
      ],
      "metadata": {
        "id": "8XeLCPGovNPQ"
      },
      "execution_count": 3,
      "outputs": []
    },
    {
      "cell_type": "code",
      "source": [
        "a = int(input(\"enter number: \"))\n",
        "b = int(input(\"enter number: \"))\n",
        "\n",
        "c = min(a,b)\n",
        "print(f\"minimum between two no is: {c}\")\n",
        "\n",
        "while c >= 1 :\n",
        "  if a % c == 0 and b % c == 0:\n",
        "    print(f\"HCF of {a} & {b} is {c}\")\n",
        "    break\n",
        "  c = c-1\n"
      ],
      "metadata": {
        "colab": {
          "base_uri": "https://localhost:8080/"
        },
        "id": "KLxPCxLSwABf",
        "outputId": "c5c97691-c9a3-4b37-9fc8-20346e4bffdb"
      },
      "execution_count": 8,
      "outputs": [
        {
          "output_type": "stream",
          "name": "stdout",
          "text": [
            "enter number: 8\n",
            "enter number: 9\n",
            "minimum between two no is: 8\n",
            "HCF of 8 & 9 is 1\n"
          ]
        }
      ]
    },
    {
      "cell_type": "code",
      "source": [
        "a = int(input(\"enter number: \"))\n",
        "b = int(input(\"enter number: \"))\n",
        "\n",
        "c = min(a,b)\n",
        "print(f\"minimum between two no is: {c}\")\n",
        "\n",
        "while c >= 1 :\n",
        "  if a % c == 0 and b % c == 0:\n",
        "    print(f\"HCF of {a} & {b} is {c}\")\n",
        "    break\n",
        "  c = c-1"
      ],
      "metadata": {
        "colab": {
          "base_uri": "https://localhost:8080/"
        },
        "id": "RSsfEEgC6iou",
        "outputId": "0d0794b7-a6a3-4b7b-945d-ba855f751bbd"
      },
      "execution_count": 10,
      "outputs": [
        {
          "output_type": "stream",
          "name": "stdout",
          "text": [
            "enter number: 6\n",
            "enter number: 24\n",
            "minimum between two no is: 6\n",
            "HCF of 6 & 24 is 6\n"
          ]
        }
      ]
    },
    {
      "cell_type": "code",
      "source": [
        "#q 3.\tWrite a Python Program to Convert Decimal to Binary, Octal and Hexadecimal?\n",
        "\n",
        "number = int(input(\"enter a Number: \"))\n",
        "\n",
        "choice = int(input(\"enter your choice 1: Binary, 2: Octal , 3: hexadecmal --> \"))\n",
        "\n",
        "if convert == 1:\n",
        "  print(\"converted to binary: \",bin(number))\n",
        "\n",
        "elif convert == 2:\n",
        "  print(\"converted to Octal: \",oct(number))\n",
        "\n",
        "elif convert == 3:\n",
        "  print(\"converted to hexadecimal: \",hex(number))\n",
        "\n",
        "else:\n",
        "   print(\"review your input\")\n",
        "\n"
      ],
      "metadata": {
        "colab": {
          "base_uri": "https://localhost:8080/"
        },
        "id": "yKDKoZxlgm81",
        "outputId": "56341037-8515-4359-9753-c4082f89a765"
      },
      "execution_count": 22,
      "outputs": [
        {
          "output_type": "stream",
          "name": "stdout",
          "text": [
            "enter a Number: 36\n",
            "enter your choice 1: Binary, 2: Octal , 3: hexadecmal --> 3\n",
            "converted to hexadecimal:  0x24\n"
          ]
        }
      ]
    },
    {
      "cell_type": "code",
      "source": [
        "#q4.\tWrite a Python Program To Find ASCII value of a character?"
      ],
      "metadata": {
        "id": "xjPfZ8N_oxf6"
      },
      "execution_count": 18,
      "outputs": []
    },
    {
      "cell_type": "code",
      "source": [
        "char = input(\"enter your character: \")\n",
        "\n",
        "print(\"the ASCII value for\", char , \"is\", ord(char))"
      ],
      "metadata": {
        "colab": {
          "base_uri": "https://localhost:8080/"
        },
        "id": "tYxrC17jqC-v",
        "outputId": "4a665a28-49a6-40b0-8e86-12cd5c88f881"
      },
      "execution_count": 28,
      "outputs": [
        {
          "output_type": "stream",
          "name": "stdout",
          "text": [
            "enter your character: A\n",
            "the ASCII value for A is 65\n"
          ]
        }
      ]
    },
    {
      "cell_type": "code",
      "source": [
        "#5.\tWrite a Python Program to Make a Simple Calculator with 4 basic mathematical operations?"
      ],
      "metadata": {
        "id": "IcidK0uTripX"
      },
      "execution_count": 29,
      "outputs": []
    },
    {
      "cell_type": "code",
      "source": [
        "a = int(input(\"enter 1st Number: \"))\n",
        "b = int(input(\"enter 2nd Number: \"))\n",
        "\n",
        "choice = int(input(\"enter your choice, 1: addition, 2: substarction, 3: multiplication, 4: Division --> \"))\n",
        "\n",
        "if choice == 1:\n",
        "  print(\"addition = \",a + b)\n",
        "\n",
        "elif choice == 2:\n",
        "  print(\"substraction = \",(a - b))\n",
        "\n",
        "elif choice == 3 :\n",
        "  print(\"multiplication = \",(a*b))\n",
        "\n",
        "elif choice == 4 :\n",
        "  print(\"division = \",(a/b))\n",
        "\n",
        "else:\n",
        "  print('review your choice')\n"
      ],
      "metadata": {
        "colab": {
          "base_uri": "https://localhost:8080/"
        },
        "id": "LAgQN-oAr0s9",
        "outputId": "fab3cd30-9535-444c-eff1-cc600e5951dd"
      },
      "execution_count": 33,
      "outputs": [
        {
          "output_type": "stream",
          "name": "stdout",
          "text": [
            "enter 1st Number: 325\n",
            "enter 2nd Number: 4564\n",
            "enter your choice, 1: addition, 2: substarction, 3: multiplication, 4: Division --> 1\n",
            "addition =  4889\n"
          ]
        }
      ]
    },
    {
      "cell_type": "code",
      "source": [],
      "metadata": {
        "id": "_Tj4PYJAxzZu"
      },
      "execution_count": null,
      "outputs": []
    }
  ]
}