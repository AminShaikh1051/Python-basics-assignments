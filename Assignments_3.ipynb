{
  "nbformat": 4,
  "nbformat_minor": 0,
  "metadata": {
    "colab": {
      "provenance": []
    },
    "kernelspec": {
      "name": "python3",
      "display_name": "Python 3"
    },
    "language_info": {
      "name": "python"
    }
  },
  "cells": [
    {
      "cell_type": "code",
      "execution_count": null,
      "metadata": {
        "id": "UIIubtR7jNXt"
      },
      "outputs": [],
      "source": [
        "# 1. Why are functions advantageous to have in your programs?\n",
        "# ans --> Functions reduce the need for duplicate code. This makes programs shorter, easier to read, and easier to update.increase the code reusability. "
      ]
    },
    {
      "cell_type": "code",
      "source": [
        "# 2. When does the code in a function run: when it's specified or when it's called?\n",
        "# ans --> when we call the function at that time code inside the functons run."
      ],
      "metadata": {
        "id": "VyIFDclajqqA"
      },
      "execution_count": null,
      "outputs": []
    },
    {
      "cell_type": "code",
      "source": [
        "# 3. What statement creates a function?\n",
        "# ans --> 'def' statement creates the function.\n"
      ],
      "metadata": {
        "id": "fFifjP0jmceg"
      },
      "execution_count": null,
      "outputs": []
    },
    {
      "cell_type": "code",
      "source": [
        "# 4. What is the difference between a function and a function call?\n",
        "# ans --> A function consists of the def statement and the code in its def clause.\n",
        "# function call will run the code inside function. & return the value "
      ],
      "metadata": {
        "id": "L_iUyr3QmngP"
      },
      "execution_count": null,
      "outputs": []
    },
    {
      "cell_type": "code",
      "source": [
        "# 5. How many global scopes are there in a Python program? How many local scopes?\n",
        "# ans --> There is one global scope, and a local scope is created whenever a function is called."
      ],
      "metadata": {
        "id": "oeUFhWySnrxo"
      },
      "execution_count": null,
      "outputs": []
    },
    {
      "cell_type": "code",
      "source": [
        "# 6. What happens to variables in a local scope when the function call returns?\n",
        "# ans --> When a function returns, the local scope is destroyed, and all the variables in it are forgotten.\n"
      ],
      "metadata": {
        "id": "pPIqiuGqodoC"
      },
      "execution_count": null,
      "outputs": []
    },
    {
      "cell_type": "code",
      "source": [
        "# 7. What is the concept of a return value? Is it possible to have a return value in an expression?\n",
        "# ans--> A return value is the value that a function call evaluates to. Like any value, a return value can be used as part of an expression."
      ],
      "metadata": {
        "id": "Vu5R5qDFo1eB"
      },
      "execution_count": null,
      "outputs": []
    },
    {
      "cell_type": "code",
      "source": [
        "# 8. If a function does not have a return statement, what is the return value of a call to that function?\n",
        "# ans --> If there is no return statement for a function, its return value is None."
      ],
      "metadata": {
        "id": "VsvYz76dg2NH"
      },
      "execution_count": null,
      "outputs": []
    },
    {
      "cell_type": "code",
      "source": [
        "# 9. How do you make a function variable refer to the global variable?\n",
        "# ans --> by using 'global' keyword we can use functon variable as a golabal variable."
      ],
      "metadata": {
        "id": "D0GCGA2JhJDz"
      },
      "execution_count": null,
      "outputs": []
    },
    {
      "cell_type": "code",
      "source": [
        "# 10. What is the data type of None?\n",
        "# ans --> data type of None is 'NoneType'"
      ],
      "metadata": {
        "id": "V4VVG5pCilWC"
      },
      "execution_count": null,
      "outputs": []
    },
    {
      "cell_type": "code",
      "source": [
        "# 11 . 11. What does the sentence import areallyourpetsnamederic do?\n",
        "# ans --> That import statement imports a module named areallyourpetsnamederic."
      ],
      "metadata": {
        "id": "JETtDc4Viy8T"
      },
      "execution_count": null,
      "outputs": []
    },
    {
      "cell_type": "code",
      "source": [
        "# 12. If you had a bacon() feature in a spam module, what would you call it after importing spam?\n",
        "# ans --> spam.bacon()"
      ],
      "metadata": {
        "id": "gy87V6hrjGY6"
      },
      "execution_count": null,
      "outputs": []
    },
    {
      "cell_type": "code",
      "source": [
        "# 13.  What can you do to save a programme from crashing if it encounters an error?\n",
        "# ans --> Place the line of code that might cause an error in a try clause(block)."
      ],
      "metadata": {
        "id": "e1aWngEmjUy_"
      },
      "execution_count": null,
      "outputs": []
    },
    {
      "cell_type": "code",
      "source": [
        "# 14. What is the purpose of the try clause? What is the purpose of the except clause?\n",
        "# ans --> The code that could potentially cause an error goes in the try clause. \n",
        "#         The code that executes if an error happens goes in the except clause."
      ],
      "metadata": {
        "id": "uCAGOE77jr-3"
      },
      "execution_count": null,
      "outputs": []
    }
  ]
}