{
  "nbformat": 4,
  "nbformat_minor": 0,
  "metadata": {
    "colab": {
      "provenance": []
    },
    "kernelspec": {
      "name": "python3",
      "display_name": "Python 3"
    },
    "language_info": {
      "name": "python"
    }
  },
  "cells": [
    {
      "cell_type": "code",
      "execution_count": 13,
      "metadata": {
        "id": "wyvd6SCsi713"
      },
      "outputs": [],
      "source": [
        "#Q. 1. What does RGBA stand for?\n"
      ]
    },
    {
      "cell_type": "markdown",
      "source": [
        "Ans.\n",
        "\n",
        "RGBA stands for red, green, blue, and alpha (transparency) in the color\n",
        "An RGBA value is a tuple of 4 integers, each ranging from 0 to 255. The four integers correspond\n",
        "to the amount of red, green, blue, and alpha (transparency) in the color"
      ],
      "metadata": {
        "id": "EzyfhnNZj40I"
      }
    },
    {
      "cell_type": "code",
      "source": [
        "#Q. 2. From the Pillow module, how do you get the RGBA value of any images ?"
      ],
      "metadata": {
        "id": "d5HZpxl4j7uP"
      },
      "execution_count": 14,
      "outputs": []
    },
    {
      "cell_type": "code",
      "source": [
        "from PIL import ImageColor\n",
        "ImageColor.getcolor('green', 'RGBA')\n"
      ],
      "metadata": {
        "colab": {
          "base_uri": "https://localhost:8080/"
        },
        "id": "6yxSDoMEkR5k",
        "outputId": "2b07e35f-c617-407f-fb32-5a81991784c0"
      },
      "execution_count": 15,
      "outputs": [
        {
          "output_type": "execute_result",
          "data": {
            "text/plain": [
              "(0, 128, 0, 255)"
            ]
          },
          "metadata": {},
          "execution_count": 15
        }
      ]
    },
    {
      "cell_type": "code",
      "source": [
        "ImageColor.getcolor('red', 'RGBA')"
      ],
      "metadata": {
        "colab": {
          "base_uri": "https://localhost:8080/"
        },
        "id": "PCmfQlJskgEm",
        "outputId": "abb88caa-167d-48e9-bdfe-ab15d2f89ac7"
      },
      "execution_count": 16,
      "outputs": [
        {
          "output_type": "execute_result",
          "data": {
            "text/plain": [
              "(255, 0, 0, 255)"
            ]
          },
          "metadata": {},
          "execution_count": 16
        }
      ]
    },
    {
      "cell_type": "code",
      "source": [
        "ImageColor.getcolor('CornflowerBlue','RGBA')"
      ],
      "metadata": {
        "colab": {
          "base_uri": "https://localhost:8080/"
        },
        "id": "arZz9KoDmDos",
        "outputId": "13b60343-c448-4044-d078-191ba0b329d5"
      },
      "execution_count": 17,
      "outputs": [
        {
          "output_type": "execute_result",
          "data": {
            "text/plain": [
              "(100, 149, 237, 255)"
            ]
          },
          "metadata": {},
          "execution_count": 17
        }
      ]
    },
    {
      "cell_type": "code",
      "source": [
        "ImageColor.getcolor('blue','RGBA')"
      ],
      "metadata": {
        "colab": {
          "base_uri": "https://localhost:8080/"
        },
        "id": "CbZnYyJXmr8e",
        "outputId": "5086d47a-752c-4768-f687-3f64c13a04ba"
      },
      "execution_count": 18,
      "outputs": [
        {
          "output_type": "execute_result",
          "data": {
            "text/plain": [
              "(0, 0, 255, 255)"
            ]
          },
          "metadata": {},
          "execution_count": 18
        }
      ]
    },
    {
      "cell_type": "code",
      "source": [
        "#Q 3. What is a box tuple, and how does it work?"
      ],
      "metadata": {
        "id": "Wb6O4skxkj1K"
      },
      "execution_count": 19,
      "outputs": []
    },
    {
      "cell_type": "markdown",
      "source": [
        "Ans. A box tuple is a tuple value of four integers: the left edge x-coordinate, the top edge y-coordinate, the width, and the height, respectively"
      ],
      "metadata": {
        "id": "Al4ULsj7mzED"
      }
    },
    {
      "cell_type": "code",
      "source": [
        "#Q 4. Use your image and load in notebook then, How can you find out the width and height of an Image object?"
      ],
      "metadata": {
        "id": "vtV6WjH1m8rl"
      },
      "execution_count": 19,
      "outputs": []
    },
    {
      "cell_type": "markdown",
      "source": [
        "Ans. A box tuple is a tuple value of four integers: the left edge x-coordinate, the top edge y-coordinate, the width, and the height, respectively"
      ],
      "metadata": {
        "id": "CN7udmYEsV5v"
      }
    },
    {
      "cell_type": "code",
      "source": [
        "#Q 5. What method would you call to get Image object for a 100×100 image, excluding the lower-left quarter of it?"
      ],
      "metadata": {
        "id": "tdYX8vs2wvDp"
      },
      "execution_count": null,
      "outputs": []
    },
    {
      "cell_type": "markdown",
      "source": [
        "Ans. ImageObject.crop((0, 50, 50, 50))"
      ],
      "metadata": {
        "id": "H_Txgfc-wz5O"
      }
    },
    {
      "cell_type": "code",
      "source": [
        "#Q. 6. After making changes to an Image object, how could you save it as an image file?"
      ],
      "metadata": {
        "id": "Edha06DRxEqn"
      },
      "execution_count": null,
      "outputs": []
    },
    {
      "cell_type": "markdown",
      "source": [
        "Ans. By Calling the imageObj.save('new_filename.png') method of the Image object."
      ],
      "metadata": {
        "id": "956_wDWRxJfB"
      }
    },
    {
      "cell_type": "code",
      "source": [
        "#Q. 7. What module contains Pillow’s shape-drawing code?"
      ],
      "metadata": {
        "id": "G1G0v3AjxNOA"
      },
      "execution_count": 20,
      "outputs": []
    },
    {
      "cell_type": "markdown",
      "source": [
        "Ans. The ImageDraw module contains code to draw on images"
      ],
      "metadata": {
        "id": "6EP8WVsex6oQ"
      }
    },
    {
      "cell_type": "code",
      "source": [
        "#Q. 8. The ImageDraw module contains code to draw on images"
      ],
      "metadata": {
        "id": "iOzISNL5x6Pl"
      },
      "execution_count": 21,
      "outputs": []
    },
    {
      "cell_type": "markdown",
      "source": [
        "Ans. ImageDraw objects have shape-drawing methods such as point(), line(), or rectangle(). They are returned by passing the Image object to the ImageDraw.Draw() function"
      ],
      "metadata": {
        "id": "HEBjZU81yGZA"
      }
    },
    {
      "cell_type": "code",
      "source": [],
      "metadata": {
        "id": "m2qMHbDyyF3X"
      },
      "execution_count": null,
      "outputs": []
    }
  ]
}