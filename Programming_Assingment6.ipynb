{
  "nbformat": 4,
  "nbformat_minor": 0,
  "metadata": {
    "colab": {
      "provenance": []
    },
    "kernelspec": {
      "name": "python3",
      "display_name": "Python 3"
    },
    "language_info": {
      "name": "python"
    }
  },
  "cells": [
    {
      "cell_type": "code",
      "execution_count": null,
      "metadata": {
        "id": "yEDPWjJ17Zf1"
      },
      "outputs": [],
      "source": [
        "#1.\tWrite a Python Program to Display Fibonacci Sequence Using Recursion?"
      ]
    },
    {
      "cell_type": "code",
      "source": [
        "def fiborecur(n):\n",
        "  if n==0 :\n",
        "    return 0\n",
        "  elif n==1 :\n",
        "    return 1\n",
        "  elif n>=2 :\n",
        "    return fiborecur(n-1) + fiborecur(n-2)\n",
        "  else:\n",
        "    print(\"review your input\")\n"
      ],
      "metadata": {
        "id": "NpLv-o_fGN3j"
      },
      "execution_count": 1,
      "outputs": []
    },
    {
      "cell_type": "code",
      "source": [
        "fiborecur(5)"
      ],
      "metadata": {
        "colab": {
          "base_uri": "https://localhost:8080/"
        },
        "id": "J3yZfLpMH0VK",
        "outputId": "36b85589-f5d0-4b3f-d273-d995871216a0"
      },
      "execution_count": 2,
      "outputs": [
        {
          "output_type": "execute_result",
          "data": {
            "text/plain": [
              "5"
            ]
          },
          "metadata": {},
          "execution_count": 2
        }
      ]
    },
    {
      "cell_type": "code",
      "source": [
        "fiborecur(6)"
      ],
      "metadata": {
        "id": "LN4DquuRPCmx",
        "colab": {
          "base_uri": "https://localhost:8080/"
        },
        "outputId": "5122dd2b-5a6e-4e8b-ad81-7e30308bf412"
      },
      "execution_count": 4,
      "outputs": [
        {
          "output_type": "execute_result",
          "data": {
            "text/plain": [
              "8"
            ]
          },
          "metadata": {},
          "execution_count": 4
        }
      ]
    },
    {
      "cell_type": "code",
      "source": [
        "#2.\tWrite a Python Program to Find Factorial of Number Using Recursion?"
      ],
      "metadata": {
        "id": "gStPYuSvSOgq"
      },
      "execution_count": 5,
      "outputs": []
    },
    {
      "cell_type": "code",
      "source": [
        "def fact(x):\n",
        "  if x == 1 :\n",
        "    return  1\n",
        "\n",
        "  else:\n",
        "    return x * fact(x-1)\n",
        "\n",
        "n = int(input(\"enter a No: \"))\n",
        "if n <= 0 :\n",
        "  print(\"fctorial does not exist for number less than 1\")\n",
        "else:\n",
        "  print(f\"factorial of {n} is {fact(n)}\")"
      ],
      "metadata": {
        "colab": {
          "base_uri": "https://localhost:8080/"
        },
        "id": "oTqtwwGrSaqe",
        "outputId": "02335141-0127-47e2-fa71-150fb77c82ae"
      },
      "execution_count": 10,
      "outputs": [
        {
          "output_type": "stream",
          "name": "stdout",
          "text": [
            "enter a No: 14\n",
            "factorial of 14 is 87178291200\n"
          ]
        }
      ]
    },
    {
      "cell_type": "code",
      "source": [
        "#3.\tWrite a Python Program to calculate your Body Mass Index?"
      ],
      "metadata": {
        "id": "ESInkXhVW997"
      },
      "execution_count": 11,
      "outputs": []
    },
    {
      "cell_type": "code",
      "source": [
        "weight = float(input(\"enter your weight in 'Kg': \"))\n",
        "height = float(input(\"enyer your height in 'm': \"))\n",
        "\n",
        "BMI = (weight)/(height*2)\n",
        "\n",
        "if BMI < 18.5 :\n",
        "  print(\"you are underweight, your BMI is: \",BMI , \", helthy range is betwen 18.5 & 24.9\") \n",
        "elif 18.5 >= BMI < 25 :\n",
        "  print(\"Congrats, you are Helthyweight,  \",BMI) \n",
        "elif 29.9 >= BMI >= 25 :\n",
        "  print(\"you are Overweight,your BMI is:  \",BMI, \", helthy range is betwen 18.5 & 24.9\")\n",
        "elif 30 <= BMI :\n",
        "  print(\"warning you fall under Obesity,your BMI is \",BMI, \", helthy range is betwen 18.5 & 24.9\")\n",
        "else:\n",
        "  print(\"check your input\")\n"
      ],
      "metadata": {
        "colab": {
          "base_uri": "https://localhost:8080/"
        },
        "id": "uS7jjjb2Y41V",
        "outputId": "a5dc03bd-e0fa-4296-abc8-ccdc1a290631"
      },
      "execution_count": 18,
      "outputs": [
        {
          "output_type": "stream",
          "name": "stdout",
          "text": [
            "enter your weight in 'Kg': 95\n",
            "enyer your height in 'm': 1.83\n",
            "you are Overweight,your BMI is:   25.956284153005463 , helthy range is betwen 18.5 & 24.9\n"
          ]
        }
      ]
    },
    {
      "cell_type": "code",
      "source": [
        "#4.\tWrite a Python Program to calculate the natural logarithm of any number?"
      ],
      "metadata": {
        "id": "oxEHdREcbmzr"
      },
      "execution_count": 19,
      "outputs": []
    },
    {
      "cell_type": "code",
      "source": [
        "import math\n",
        "\n",
        "g = float(input(\"enter a Number: \"))\n",
        "\n",
        "natural_log = math.log(g)\n",
        "print(f\"natural log {g} is {natural_log} \")"
      ],
      "metadata": {
        "colab": {
          "base_uri": "https://localhost:8080/"
        },
        "id": "KXxy2FjicvNM",
        "outputId": "48250b72-089f-477f-9f6b-d0475e42a327"
      },
      "execution_count": 24,
      "outputs": [
        {
          "output_type": "stream",
          "name": "stdout",
          "text": [
            "enter a Number: 2.73\n",
            "natural log 2.73 is 1.0043016091968684 \n"
          ]
        }
      ]
    },
    {
      "cell_type": "code",
      "source": [
        "#5.\tWrite a Python Program for cube sum of first n natural numbers?"
      ],
      "metadata": {
        "id": "42orlv38dy3h"
      },
      "execution_count": 25,
      "outputs": []
    },
    {
      "cell_type": "code",
      "source": [
        "n1 = int(input(\"enter a Number: \"))\n",
        "\n",
        "sum = 0\n",
        "\n",
        "for i in range(1,n1+1):\n",
        "  sum = sum + (i**3)\n",
        "print(f'sum of cube of {n1} is {sum}')"
      ],
      "metadata": {
        "colab": {
          "base_uri": "https://localhost:8080/"
        },
        "id": "7jlnM3-Yfzbm",
        "outputId": "81f4e16d-6c07-4d9b-8d31-cf07861b1d9f"
      },
      "execution_count": 28,
      "outputs": [
        {
          "output_type": "stream",
          "name": "stdout",
          "text": [
            "enter a Number: 6\n",
            "sum of cube of 6 is 441\n"
          ]
        }
      ]
    },
    {
      "cell_type": "code",
      "source": [],
      "metadata": {
        "id": "9Uhf2lPsgQaH"
      },
      "execution_count": null,
      "outputs": []
    }
  ]
}