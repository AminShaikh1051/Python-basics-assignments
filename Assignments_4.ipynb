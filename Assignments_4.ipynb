{
  "nbformat": 4,
  "nbformat_minor": 0,
  "metadata": {
    "colab": {
      "provenance": []
    },
    "kernelspec": {
      "name": "python3",
      "display_name": "Python 3"
    },
    "language_info": {
      "name": "python"
    }
  },
  "cells": [
    {
      "cell_type": "code",
      "execution_count": null,
      "metadata": {
        "id": "bKFGJU7hUdIn"
      },
      "outputs": [],
      "source": [
        "# 1. What exactly is []?"
      ]
    },
    {
      "cell_type": "code",
      "source": [
        "\"\"\"the empty list value, which contains no item\n",
        " \"\"\" "
      ],
      "metadata": {
        "colab": {
          "base_uri": "https://localhost:8080/",
          "height": 36
        },
        "id": "9MUDQJ_FXFDK",
        "outputId": "ee0d9020-c566-42b1-e4cb-57554cb98a98"
      },
      "execution_count": null,
      "outputs": [
        {
          "output_type": "execute_result",
          "data": {
            "text/plain": [
              "'the empty list value, which contains no item\\n '"
            ],
            "application/vnd.google.colaboratory.intrinsic+json": {
              "type": "string"
            }
          },
          "metadata": {},
          "execution_count": 1
        }
      ]
    },
    {
      "cell_type": "code",
      "source": [
        "# 2. In a list of values stored in a variable called spam, how would you assign the value 'hello' as the third value? (Assume [2, 4, 6, 8, 10] are in spam.)\n",
        "spam = [2,4,6,8,10]\n",
        "spam[2] = \"hello\"\n",
        "spam"
      ],
      "metadata": {
        "colab": {
          "base_uri": "https://localhost:8080/"
        },
        "id": "WXp7q-DQXVFH",
        "outputId": "bb2aa1df-9440-405b-e4db-33f25de49bef"
      },
      "execution_count": null,
      "outputs": [
        {
          "output_type": "execute_result",
          "data": {
            "text/plain": [
              "[2, 4, 'hello', 8, 10]"
            ]
          },
          "metadata": {},
          "execution_count": 3
        }
      ]
    },
    {
      "cell_type": "code",
      "source": [
        "# Let's pretend the spam includes the list ['a', 'b', 'c', 'd'] for the next three queries.\n",
        "spam = ['a','b','c','d']"
      ],
      "metadata": {
        "id": "U60lUxQdXqlH"
      },
      "execution_count": null,
      "outputs": []
    },
    {
      "cell_type": "code",
      "source": [
        "# 3. What is the value of spam[int(int('3' * 2) / 11)]?\n",
        "# ans: 3"
      ],
      "metadata": {
        "id": "xOHd6lLmZTz_"
      },
      "execution_count": null,
      "outputs": []
    },
    {
      "cell_type": "code",
      "source": [
        "# 4. What is the value of spam[-1]?\n",
        "spam[-1]"
      ],
      "metadata": {
        "colab": {
          "base_uri": "https://localhost:8080/",
          "height": 36
        },
        "id": "1_9HOPKjaByG",
        "outputId": "7b3da197-a678-4a2f-badc-18824f73009b"
      },
      "execution_count": null,
      "outputs": [
        {
          "output_type": "execute_result",
          "data": {
            "text/plain": [
              "'d'"
            ],
            "application/vnd.google.colaboratory.intrinsic+json": {
              "type": "string"
            }
          },
          "metadata": {},
          "execution_count": 14
        }
      ]
    },
    {
      "cell_type": "code",
      "source": [
        "# 5. What is the value of spam[:2]?\n",
        "spam[:2]"
      ],
      "metadata": {
        "colab": {
          "base_uri": "https://localhost:8080/"
        },
        "id": "socL6ynhafuR",
        "outputId": "ce725f16-953b-4d2d-8f2c-307faf8297ac"
      },
      "execution_count": null,
      "outputs": [
        {
          "output_type": "execute_result",
          "data": {
            "text/plain": [
              "['a', 'b']"
            ]
          },
          "metadata": {},
          "execution_count": 15
        }
      ]
    },
    {
      "cell_type": "code",
      "source": [
        "# Let's pretend bacon has the list [3.14, 'cat,' 11, 'cat,' True] for the next three questions.\n",
        "bacon = [3.14, 'cat',11, 'cat', True]"
      ],
      "metadata": {
        "id": "4ud2O3kgatkt"
      },
      "execution_count": null,
      "outputs": []
    },
    {
      "cell_type": "code",
      "source": [
        "# 6. What is the value of bacon.index('cat')?\n",
        "bacon.index('cat')   #takes the value of index, of first apperance"
      ],
      "metadata": {
        "colab": {
          "base_uri": "https://localhost:8080/"
        },
        "id": "I7iPfupJd9qG",
        "outputId": "bd85fcbd-ad3e-4559-d3f3-594087ed4a08"
      },
      "execution_count": null,
      "outputs": [
        {
          "output_type": "execute_result",
          "data": {
            "text/plain": [
              "1"
            ]
          },
          "metadata": {},
          "execution_count": 21
        }
      ]
    },
    {
      "cell_type": "code",
      "source": [
        "# 7. How does bacon.append(99) change the look of the list value in bacon?\n",
        "# ans -->\n",
        "bacon.append(99)   # add the given item in last index position"
      ],
      "metadata": {
        "id": "LHYAO2vueTSz"
      },
      "execution_count": null,
      "outputs": []
    },
    {
      "cell_type": "code",
      "source": [
        "bacon"
      ],
      "metadata": {
        "colab": {
          "base_uri": "https://localhost:8080/"
        },
        "id": "KJp292fYejg0",
        "outputId": "1976619a-ccbc-4364-a9a9-e54650750178"
      },
      "execution_count": null,
      "outputs": [
        {
          "output_type": "execute_result",
          "data": {
            "text/plain": [
              "[3.14, 'cat', 11, 'cat', True, 99]"
            ]
          },
          "metadata": {},
          "execution_count": 23
        }
      ]
    },
    {
      "cell_type": "code",
      "source": [
        "# 8. How does bacon.remove('cat') change the look of the list in bacon?\n",
        "# ans -->\n",
        "bacon.remove('cat')  # removes the item cat \n",
        "bacon"
      ],
      "metadata": {
        "colab": {
          "base_uri": "https://localhost:8080/"
        },
        "id": "_JiiXKvNek7G",
        "outputId": "39d17d87-ee25-40f6-f6ec-e7036c1917ee"
      },
      "execution_count": null,
      "outputs": [
        {
          "output_type": "execute_result",
          "data": {
            "text/plain": [
              "[3.14, 11, True, 99]"
            ]
          },
          "metadata": {},
          "execution_count": 25
        }
      ]
    },
    {
      "cell_type": "code",
      "source": [
        "# 9. What are the list concatenation and list replication operators?\n",
        "# ans --> the operator for list concatination is '+' and operator for list replication is '*'"
      ],
      "metadata": {
        "id": "tOU5Fn8Re9HO"
      },
      "execution_count": null,
      "outputs": []
    },
    {
      "cell_type": "code",
      "source": [
        "# 10. What is difference between the list methods append() and insert()?\n",
        "# ans --> append() will add value at end. insert() will add the value anywhere in list."
      ],
      "metadata": {
        "id": "tcOIn7lVfPr3"
      },
      "execution_count": null,
      "outputs": []
    },
    {
      "cell_type": "code",
      "source": [
        "# 11. What are the two methods for removing items from a list?\n",
        "\n",
        "#ans --> 1) remove() method removes the first given elemnt matching  the list syntax: lit_name.remove(value)\n",
        "# 2) The pop() method removes an element from the list based on the index given. syntax: list_name.pop(indexno)\n"
      ],
      "metadata": {
        "id": "W84BwIbo6hKi"
      },
      "execution_count": 4,
      "outputs": []
    },
    {
      "cell_type": "code",
      "source": [
        "# 12. Describe how list values and string values are identical.\n",
        "# ans --> Both lists and strings can be passed to len(), have indexes and slices, be used in for loops, be concatenated or replicated, and be used with the in and not in operators."
      ],
      "metadata": {
        "id": "07Hf9s7tA01C"
      },
      "execution_count": null,
      "outputs": []
    },
    {
      "cell_type": "code",
      "source": [
        "# 13. What's the difference between tuples and lists?\n",
        "# ans--> tuples are immutable values in tuple can not changed, they use ()\n",
        "# list are mutable, valus can be add or remove from list  list used []\n"
      ],
      "metadata": {
        "id": "8joCfujgCxyO"
      },
      "execution_count": null,
      "outputs": []
    },
    {
      "cell_type": "code",
      "source": [
        "# 14. How do you type a tuple value that only contains the integer 42?\n",
        "test1 = (42,) # trailing comma is mandatory"
      ],
      "metadata": {
        "id": "vEKSYPeyD2Vh"
      },
      "execution_count": 8,
      "outputs": []
    },
    {
      "cell_type": "code",
      "source": [
        "type(test1)"
      ],
      "metadata": {
        "colab": {
          "base_uri": "https://localhost:8080/"
        },
        "id": "fo5fs-hmEJWV",
        "outputId": "24aa8d76-d801-46f5-964c-081baf1e0026"
      },
      "execution_count": 9,
      "outputs": [
        {
          "output_type": "execute_result",
          "data": {
            "text/plain": [
              "tuple"
            ]
          },
          "metadata": {},
          "execution_count": 9
        }
      ]
    },
    {
      "cell_type": "code",
      "source": [
        "# 15. How do you get a list value's tuple form? How do you get a tuple value's list form?\n",
        "\n",
        "tuple1 = (24,25)\n",
        "list1 = list(tuple1) # type casting\n",
        "list1\n",
        "type(list1)"
      ],
      "metadata": {
        "colab": {
          "base_uri": "https://localhost:8080/"
        },
        "id": "meKIINMiEL3f",
        "outputId": "6c162f27-7079-42c5-bb52-15dbbba7c577"
      },
      "execution_count": 12,
      "outputs": [
        {
          "output_type": "execute_result",
          "data": {
            "text/plain": [
              "list"
            ]
          },
          "metadata": {},
          "execution_count": 12
        }
      ]
    },
    {
      "cell_type": "code",
      "source": [
        "list2 = [12,54,'ineuron',654]\n",
        "tuple2 = tuple(list2) # type casting\n",
        "tuple2 "
      ],
      "metadata": {
        "colab": {
          "base_uri": "https://localhost:8080/"
        },
        "id": "Mum7ld3gFJ7n",
        "outputId": "bf6f9684-d6ee-4c01-caba-f37437bdf18c"
      },
      "execution_count": 14,
      "outputs": [
        {
          "output_type": "execute_result",
          "data": {
            "text/plain": [
              "(12, 54, 'ineuron', 654)"
            ]
          },
          "metadata": {},
          "execution_count": 14
        }
      ]
    },
    {
      "cell_type": "code",
      "source": [
        "# 16. . Variables that \"contain\" list values are not necessarily lists themselves. Instead, what do they contain?\n",
        "# ans --> variables contains reference id , not a actual list."
      ],
      "metadata": {
        "id": "BmCpEFmmFb34"
      },
      "execution_count": null,
      "outputs": []
    },
    {
      "cell_type": "code",
      "source": [
        "# 17. How do you distinguish between copy.copy() and copy.deepcopy()?\n",
        "# ans--> The copy.copy() function will do a shallow copy of a list, while the copy.deepcopy() function will do a deep copy of a list. That is, only copy.deepcopy() will duplicate any lists inside the list."
      ],
      "metadata": {
        "id": "ry8Q36odL0TM"
      },
      "execution_count": null,
      "outputs": []
    }
  ]
}