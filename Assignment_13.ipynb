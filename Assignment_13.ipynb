{
  "nbformat": 4,
  "nbformat_minor": 0,
  "metadata": {
    "colab": {
      "provenance": []
    },
    "kernelspec": {
      "name": "python3",
      "display_name": "Python 3"
    },
    "language_info": {
      "name": "python"
    }
  },
  "cells": [
    {
      "cell_type": "code",
      "execution_count": null,
      "metadata": {
        "id": "m5BhjTUKvomc"
      },
      "outputs": [],
      "source": [
        "#1. What advantages do Excel spreadsheets have over CSV spreadsheets?\n",
        "# ans --> In Excel, spreadsheets can have values of data types other than strings; cells can have different fonts, sizes, or color settings; cells can have varying widths and heights; adjacent cells can be merged; and you can embed images and charts."
      ]
    },
    {
      "cell_type": "code",
      "source": [
        "#2.What do you pass to csv.reader() and csv.writer() to create reader and writer objects?\n",
        "# ans --> You pass a File object, obtained from a call to open()."
      ],
      "metadata": {
        "id": "87A-1qkqWkby"
      },
      "execution_count": 1,
      "outputs": []
    },
    {
      "cell_type": "code",
      "source": [
        "#3. What modes do File objects for reader and writer objects need to be opened in?\n",
        "# ans --> File objects need to be opened in read-binary ('rb') for Reader objects and write-binary ('wb') for Writer objects."
      ],
      "metadata": {
        "id": "TQGhHuKoakUO"
      },
      "execution_count": 2,
      "outputs": []
    },
    {
      "cell_type": "code",
      "source": [
        "#4. What method takes a list argument and writes it to a CSV file?\n",
        "# ans --> The writerow() method"
      ],
      "metadata": {
        "id": "g_swOPhcbE9K"
      },
      "execution_count": 3,
      "outputs": []
    },
    {
      "cell_type": "code",
      "source": [
        "#5. What do the keyword arguments delimiter and line terminator do?\n",
        "# ans --> The delimiter argument changes the string used to separate cells in a row. \n",
        "# The lineterminator argument changes the string used to separate rows."
      ],
      "metadata": {
        "id": "bRLV8U8_bTPt"
      },
      "execution_count": 4,
      "outputs": []
    },
    {
      "cell_type": "code",
      "source": [
        "#6. What function takes a string of JSON data and returns a Python data structure?\n",
        "# ans --> json.loads()"
      ],
      "metadata": {
        "id": "Y7DclhRre0JC"
      },
      "execution_count": 5,
      "outputs": []
    },
    {
      "cell_type": "code",
      "source": [
        "#7. What function takes a Python data structure and returns a string of JSON data?\n",
        "# ans --> json.dumps()"
      ],
      "metadata": {
        "id": "RvkZFxy1yd0B"
      },
      "execution_count": 6,
      "outputs": []
    },
    {
      "cell_type": "code",
      "source": [],
      "metadata": {
        "id": "UPsNAIFOykS4"
      },
      "execution_count": null,
      "outputs": []
    }
  ]
}