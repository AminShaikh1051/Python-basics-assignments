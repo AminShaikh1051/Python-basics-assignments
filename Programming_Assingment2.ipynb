{
  "nbformat": 4,
  "nbformat_minor": 0,
  "metadata": {
    "colab": {
      "provenance": []
    },
    "kernelspec": {
      "name": "python3",
      "display_name": "Python 3"
    },
    "language_info": {
      "name": "python"
    }
  },
  "cells": [
    {
      "cell_type": "code",
      "execution_count": null,
      "metadata": {
        "id": "-MfOV6iWj1Tg"
      },
      "outputs": [],
      "source": [
        "# 1.\tWrite a Python program to convert kilometers to miles?"
      ]
    },
    {
      "cell_type": "code",
      "source": [
        "miles = float(input(\"enter the value of miles: \"))\n",
        "kilometres = 1.6 * miles\n",
        "print(f\"kilometres: {kilometres}\")"
      ],
      "metadata": {
        "colab": {
          "base_uri": "https://localhost:8080/"
        },
        "id": "ZkHaT1mVkUpw",
        "outputId": "368bce76-8a43-4b33-e4a2-26d0acbecb98"
      },
      "execution_count": 4,
      "outputs": [
        {
          "output_type": "stream",
          "name": "stdout",
          "text": [
            "enter the value of miles: 10\n",
            "kilometres: 16.0\n"
          ]
        }
      ]
    },
    {
      "cell_type": "code",
      "source": [
        "# 2.\tWrite a Python program to convert Celsius to Fahrenheit?"
      ],
      "metadata": {
        "id": "QZ0yG9Fekd1Z"
      },
      "execution_count": 3,
      "outputs": []
    },
    {
      "cell_type": "code",
      "source": [
        "celcius = float(input(\"enter the value of celcius: \"))\n",
        "fahrenheit = (celcius*(9/5)) +32\n",
        "print(\"fahrenheit\", fahrenheit)"
      ],
      "metadata": {
        "colab": {
          "base_uri": "https://localhost:8080/"
        },
        "id": "X9kCKeeLlLmm",
        "outputId": "ca5ac124-515f-4ef1-c468-016df1650019"
      },
      "execution_count": 6,
      "outputs": [
        {
          "output_type": "stream",
          "name": "stdout",
          "text": [
            "enter the value of celcius: 40\n",
            "fahrenheit 104.0\n"
          ]
        }
      ]
    },
    {
      "cell_type": "code",
      "source": [
        "# 3.\tWrite a Python program to display calendar?"
      ],
      "metadata": {
        "id": "i29PChJqmIy2"
      },
      "execution_count": null,
      "outputs": []
    },
    {
      "cell_type": "code",
      "source": [
        "year=int(input(\"enter the year: \"))\n",
        "month=int(input(\"enter the month: \"))\n",
        "\n",
        "\n",
        "import calendar\n",
        "print(calendar.month(year,month))"
      ],
      "metadata": {
        "colab": {
          "base_uri": "https://localhost:8080/"
        },
        "id": "a9Dy-U8TmSF2",
        "outputId": "c8c5d37d-b679-4f90-e642-636a6c2b4a6c"
      },
      "execution_count": 9,
      "outputs": [
        {
          "output_type": "stream",
          "name": "stdout",
          "text": [
            "enter the year: 1994\n",
            "enter the month: 8\n",
            "    August 1994\n",
            "Mo Tu We Th Fr Sa Su\n",
            " 1  2  3  4  5  6  7\n",
            " 8  9 10 11 12 13 14\n",
            "15 16 17 18 19 20 21\n",
            "22 23 24 25 26 27 28\n",
            "29 30 31\n",
            "\n"
          ]
        }
      ]
    },
    {
      "cell_type": "code",
      "source": [
        "# 4.\tWrite a Python program to solve quadratic equation?"
      ],
      "metadata": {
        "id": "LePnwheunuvD"
      },
      "execution_count": 10,
      "outputs": []
    },
    {
      "cell_type": "code",
      "source": [
        "\"\"\" Quadratuc Equaion format   \"\"\"\n"
      ],
      "metadata": {
        "id": "HM8Xkv91oEVz"
      },
      "execution_count": null,
      "outputs": []
    },
    {
      "cell_type": "markdown",
      "source": [
        "![qd equation.png](data:image/png;base64,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)"
      ],
      "metadata": {
        "id": "3Ch-ZNKCti2N"
      }
    },
    {
      "cell_type": "code",
      "source": [
        "a = int(input(\"enter the value for a: \"))\n",
        "b = int(input(\"enter the value for b: \"))\n",
        "c = int(input(\"enter the value for c: \"))\n",
        "\n",
        "# caluclate the discriminant \n",
        "\n",
        "d = (b**2) - (4*a*c)\n",
        "e = (d)**(1/2)\n",
        "\n",
        "solution_1 = (-b - (e)) / (2*a)\n",
        "solution_2 = (-b + (e)) / (2*a)\n",
        "print('solution 1: ', solution_1)\n",
        "print('solution 2: ', solution_2)\n"
      ],
      "metadata": {
        "colab": {
          "base_uri": "https://localhost:8080/"
        },
        "id": "dmJPEoTAttF7",
        "outputId": "a8884cad-ed6a-4e66-979a-980403c4ae5b"
      },
      "execution_count": 20,
      "outputs": [
        {
          "output_type": "stream",
          "name": "stdout",
          "text": [
            "enter the value for a: 3\n",
            "enter the value for b: 15\n",
            "enter the value for c: 18\n",
            "solution 1:  -3.0\n",
            "solution 2:  -2.0\n"
          ]
        }
      ]
    },
    {
      "cell_type": "code",
      "source": [
        "# 5.\tWrite a Python program to swap two variables without temp variable?"
      ],
      "metadata": {
        "id": "oKBPOtoFux0b"
      },
      "execution_count": null,
      "outputs": []
    },
    {
      "cell_type": "code",
      "source": [
        "x = 10\n",
        "y = 25\n",
        "\n",
        "x,y = y,x\n",
        "\n",
        "print(x)\n",
        "print(y)"
      ],
      "metadata": {
        "colab": {
          "base_uri": "https://localhost:8080/"
        },
        "id": "KZxgOHy6w_eq",
        "outputId": "f1e37d57-8063-43f3-a4b0-67b599b9a293"
      },
      "execution_count": 22,
      "outputs": [
        {
          "output_type": "stream",
          "name": "stdout",
          "text": [
            "25\n",
            "10\n"
          ]
        }
      ]
    },
    {
      "cell_type": "code",
      "source": [],
      "metadata": {
        "id": "1pCBssBExDgi"
      },
      "execution_count": null,
      "outputs": []
    }
  ]
}