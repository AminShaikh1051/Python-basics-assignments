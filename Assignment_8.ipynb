{
  "nbformat": 4,
  "nbformat_minor": 0,
  "metadata": {
    "colab": {
      "provenance": []
    },
    "kernelspec": {
      "name": "python3",
      "display_name": "Python 3"
    },
    "language_info": {
      "name": "python"
    }
  },
  "cells": [
    {
      "cell_type": "code",
      "execution_count": null,
      "metadata": {
        "id": "dlGTkN_PUkAd"
      },
      "outputs": [],
      "source": [
        "#1. Is the Python Standard Library included with PyInputPlus?\n",
        "#ans -- > PyInputPlus is not a part of the Python Standard Library, we must install it separately using Pip."
      ]
    },
    {
      "cell_type": "code",
      "source": [
        "#2. Why is PyInputPlus commonly imported with import pyinputplus as pypi?\n",
        "#ans -->  You can import the module with import pyinputplus as pyip so that you can enter a shorter name when calling the module’s functions"
      ],
      "metadata": {
        "id": "Xd4eAGQLU9ky"
      },
      "execution_count": null,
      "outputs": []
    },
    {
      "cell_type": "code",
      "source": [
        "#3. How do you distinguish between inputInt() and inputFloat()?\n",
        "#ans -->  You can import the module with import pyinputplus as pyip so that you can enter a shorter name when calling the module’s functions"
      ],
      "metadata": {
        "id": "4UC37NTlU9WS"
      },
      "execution_count": null,
      "outputs": []
    },
    {
      "cell_type": "code",
      "source": [
        "#4. Using PyInputPlus, how do you ensure that the user enters a whole number between 0 and 99?\n",
        "#ans -- > By using pyip.inputint(min=0, max=99)"
      ],
      "metadata": {
        "id": "2niJ-8o7U9Dk"
      },
      "execution_count": null,
      "outputs": []
    },
    {
      "cell_type": "code",
      "source": [
        "#5. What is transferred to the keyword arguments allowRegexes and blockRegexes?\n",
        "#ans --> A list of regex strings that are either explicitly allowed or denied"
      ],
      "metadata": {
        "id": "UD1o9sB0U8wq"
      },
      "execution_count": null,
      "outputs": []
    },
    {
      "cell_type": "code",
      "source": [
        "#6. If a blank input is entered three times, what does inputStr(limit=3) do?\n",
        "#ans -- > The function will raise RetryLimitException."
      ],
      "metadata": {
        "id": "BoL1nGKFU8YB"
      },
      "execution_count": null,
      "outputs": []
    },
    {
      "cell_type": "code",
      "source": [
        "#7. If blank input is entered three times, what does inputStr(limit=3, default='hello') do?\n",
        "#ans -- > The function returns the value 'hello'"
      ],
      "metadata": {
        "id": "e-mKsJgDU8DL"
      },
      "execution_count": 1,
      "outputs": []
    },
    {
      "cell_type": "code",
      "source": [],
      "metadata": {
        "id": "BTJ-zYVs5dRV"
      },
      "execution_count": null,
      "outputs": []
    }
  ]
}