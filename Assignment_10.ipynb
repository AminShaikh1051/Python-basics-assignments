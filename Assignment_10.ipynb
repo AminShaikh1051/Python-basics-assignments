{
  "nbformat": 4,
  "nbformat_minor": 0,
  "metadata": {
    "colab": {
      "provenance": []
    },
    "kernelspec": {
      "name": "python3",
      "display_name": "Python 3"
    },
    "language_info": {
      "name": "python"
    }
  },
  "cells": [
    {
      "cell_type": "code",
      "execution_count": 1,
      "metadata": {
        "id": "ofi7rTE-XlWY"
      },
      "outputs": [],
      "source": [
        "#1. How do you distinguish between shutil.copy() and shutil.copytree()?\n",
        "# ans -- > The shutil.copy() function will copy a single file, while shutil.copytree() will copy an entire folder, along with all its contents."
      ]
    },
    {
      "cell_type": "code",
      "source": [
        "#2. What function is used to rename files??\n",
        "# ans --> The shutil.move() function is used for renaming files, as well as moving them."
      ],
      "metadata": {
        "id": "4yF2rMaRYyNi"
      },
      "execution_count": null,
      "outputs": []
    },
    {
      "cell_type": "code",
      "source": [
        "#3. What is the difference between the delete functions in the send2trash and shutil modules?\n",
        "# ans -- > The send2trash functions will move a file or folder to the recycle bin, while shutil functions will permanently delete files and folders."
      ],
      "metadata": {
        "id": "yRHB2DhWZ1Ne"
      },
      "execution_count": null,
      "outputs": []
    },
    {
      "cell_type": "code",
      "source": [
        "#4.ZipFile objects have a close() method just like File objects’ close() method. What ZipFile method is equivalent to File objects’ open() method?\n",
        "# ans --> The zipfile.ZipFile() function is equivalent to the open() function; the first argument is the filename, and the second argument is the mode to open the ZIP file in (read, write, or append)."
      ],
      "metadata": {
        "id": "z-iPYaaIaJsf"
      },
      "execution_count": null,
      "outputs": []
    },
    {
      "cell_type": "code",
      "source": [
        "#5. Create a programme that searches a folder tree for files with a certain file extension (such as .pdf or .jpg). Copy these files from whatever location they are in to a new folder.\n",
        "# ans --> "
      ],
      "metadata": {
        "id": "C5KmXxfAavsS"
      },
      "execution_count": null,
      "outputs": []
    },
    {
      "cell_type": "code",
      "source": [
        "import os, shutil\n",
        "\n",
        "sourcePath = input('Enter the absolute path of the source folder: ')\n",
        "fileExtType = input('Enter the type of file to copy (such as .pdf or .jpg): ').lower()\n",
        "destPath = input('Enter the absolute path of the destination folder: ')\n",
        "\n",
        "for foldername, subfolders, filenames in os.walk(sourcePath):\n",
        "  for filename in filenames:\n",
        "    if filename.lower().endswith(fileExtType):\n",
        "    #print(foldername + ‘\\\\’ + filename)\n",
        "      copySourcePath = os.path.join(foldername, filename)\n",
        "    #print(copySourcePath)\n",
        "    shutil.copy(copySourcePath, destPath)\n",
        "  else:\n",
        "    continue"
      ],
      "metadata": {
        "colab": {
          "base_uri": "https://localhost:8080/"
        },
        "id": "-wyIgJs3dIw0",
        "outputId": "cb0ea75e-8682-4706-d115-4324c85bc88a"
      },
      "execution_count": 1,
      "outputs": [
        {
          "name": "stdout",
          "output_type": "stream",
          "text": [
            "Enter the absolute path of the source folder: C:\\Users\\HP\\Desktop\\Data Sciense\\i Neuron\\Assignments\\DashBorad Assignments\\Pyhton Basics\n",
            "Enter the type of file to copy (such as .pdf or .jpg): .docx\n",
            "Enter the absolute path of the destination folder: C:\\Users\\HP\\Desktop\\Test 1\n"
          ]
        }
      ]
    },
    {
      "cell_type": "code",
      "source": [],
      "metadata": {
        "id": "fmnAYaXbdTlh"
      },
      "execution_count": null,
      "outputs": []
    }
  ]
}