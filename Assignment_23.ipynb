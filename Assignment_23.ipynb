{
  "nbformat": 4,
  "nbformat_minor": 0,
  "metadata": {
    "colab": {
      "provenance": []
    },
    "kernelspec": {
      "name": "python3",
      "display_name": "Python 3"
    },
    "language_info": {
      "name": "python"
    }
  },
  "cells": [
    {
      "cell_type": "markdown",
      "source": [
        "Q1. What is the result of the code, and why?\n",
        "\n",
        "def func(a, b=6, c=8):\n",
        "\n",
        "print(a, b, c)\n",
        "\n",
        "func(1, 2)\n",
        "\n",
        "Ans: The result of the above code is 1 2 8. its because the function uses the default value of c ie 8 which is provided at the time of declaration"
      ],
      "metadata": {
        "id": "p_iVakLic1Fr"
      }
    },
    {
      "cell_type": "code",
      "execution_count": 1,
      "metadata": {
        "colab": {
          "base_uri": "https://localhost:8080/"
        },
        "id": "oAA0r3BeczOP",
        "outputId": "0ab2a9f0-2e7a-4295-8ad5-028f24c8a59f"
      },
      "outputs": [
        {
          "output_type": "stream",
          "name": "stdout",
          "text": [
            "1 2 8\n"
          ]
        }
      ],
      "source": [
        "def func(a,b=6,c=8):\n",
        "  print(a,b,c)\n",
        "\n",
        "func(1,2)"
      ]
    },
    {
      "cell_type": "markdown",
      "source": [
        "Q2. What is the result of this code, and why?\n",
        "def func(a, b, c=5):\n",
        "\n",
        "print(a, b, c)\n",
        "\n",
        "func(1, c=3, b=2)\n",
        "\n",
        "Ans: The result of the above code is 1 2 3. it is because the function will use default values only when a value for a argument is not provided and if argument name is mentioned while doing a function call, the order of arguments is also ignored by the python interpreter, since it is direct mapping takes place since argumnet name is mentioned."
      ],
      "metadata": {
        "id": "E-NExTgseTdR"
      }
    },
    {
      "cell_type": "code",
      "source": [
        "def func(a,b,c=5):\n",
        "    print(a,b,c)\n",
        "func(1,c=3,b=2)"
      ],
      "metadata": {
        "colab": {
          "base_uri": "https://localhost:8080/"
        },
        "id": "XT1BVfdXdRbT",
        "outputId": "a515571c-71a4-489a-eed2-3ebec129762a"
      },
      "execution_count": 2,
      "outputs": [
        {
          "output_type": "stream",
          "name": "stdout",
          "text": [
            "1 2 3\n"
          ]
        }
      ]
    },
    {
      "cell_type": "markdown",
      "source": [
        "Q"
      ],
      "metadata": {
        "id": "J7Jaz7UdfEPI"
      }
    },
    {
      "cell_type": "code",
      "source": [
        "# 3. How about this code: what is its result, and why?\n",
        "def func(a, *pargs):\n",
        "  print(a, pargs)\n",
        "func(1, 2, 3)\n"
      ],
      "metadata": {
        "colab": {
          "base_uri": "https://localhost:8080/"
        },
        "id": "xP5wst7cehMr",
        "outputId": "57fb5959-f17b-4ae3-b1c7-c5172db73a04"
      },
      "execution_count": 1,
      "outputs": [
        {
          "output_type": "stream",
          "name": "stdout",
          "text": [
            "1 (2, 3)\n"
          ]
        }
      ]
    },
    {
      "cell_type": "markdown",
      "source": [
        "Ans: The result of the code is 1 (2,3). *pargs stands for variable length arguments. this format is used when we are not sure about the no of arguments to be passed to a function. all the values under this argument will be stored in a tuple."
      ],
      "metadata": {
        "id": "sLsouSIFHdCp"
      }
    },
    {
      "cell_type": "code",
      "source": [
        "#4. What does this code print, and why?\n",
        "def func(a, **kargs):\n",
        " print(a, kargs)\n",
        "func(a=1, c=3, b=2)\n"
      ],
      "metadata": {
        "colab": {
          "base_uri": "https://localhost:8080/"
        },
        "id": "yLqTir0rHivB",
        "outputId": "ac465ea2-9d07-4531-a42d-18885ac0e9a0"
      },
      "execution_count": 2,
      "outputs": [
        {
          "output_type": "stream",
          "name": "stdout",
          "text": [
            "1 {'c': 3, 'b': 2}\n"
          ]
        }
      ]
    },
    {
      "cell_type": "markdown",
      "source": [
        "Ans: The result of the above code is 1 {'c': 3, 'b': 2}. **args stands for variable length keyword arguments. this format is used when we want pass key value pairs as input to a function. All these key value pairs will be stored in a dictionary"
      ],
      "metadata": {
        "id": "2yzfPVF8Hxo2"
      }
    },
    {
      "cell_type": "code",
      "source": [
        "#5. What gets printed by this, and explain?\n",
        "def func(a, b, c=8, d=5): \n",
        "  print(a, b, c, d)\n",
        "func(1, *(5, 6))\n"
      ],
      "metadata": {
        "colab": {
          "base_uri": "https://localhost:8080/"
        },
        "id": "q2EVYlEJHogl",
        "outputId": "cba89f28-408a-4599-e5cd-e6c09cec4e79"
      },
      "execution_count": 3,
      "outputs": [
        {
          "output_type": "stream",
          "name": "stdout",
          "text": [
            "1 5 6 5\n"
          ]
        }
      ]
    },
    {
      "cell_type": "markdown",
      "source": [
        "Ans: The output of the above is 1 5 6 5. This reason for this function not throwing an error is because, this function expects 4 arguments. the value for a is provided explicitly whereas for arguments b and c, the function will expand the *(5,6) and consider the value of b as 5 and value of c as 6. since the default value of d is provided in function declaration d value will be 5. However it is recommended to use the feature of positional arguments at the end."
      ],
      "metadata": {
        "id": "bnLk_OWhIgpH"
      }
    },
    {
      "cell_type": "code",
      "source": [
        "#6. what is the result of this, and explain?\n",
        "def func(a, b, c): a = 2; b[0] = 'x'; c['a'] = 'y'\n",
        "l=1; m=[1]; n={'a':0}\n",
        "func(l, m, n)\n",
        "l, m, n\n"
      ],
      "metadata": {
        "colab": {
          "base_uri": "https://localhost:8080/"
        },
        "id": "h_n6jN2mIoVm",
        "outputId": "c14dfb92-859c-4253-f888-839857d5aae3"
      },
      "execution_count": 4,
      "outputs": [
        {
          "output_type": "execute_result",
          "data": {
            "text/plain": [
              "(1, ['x'], {'a': 'y'})"
            ]
          },
          "metadata": {},
          "execution_count": 4
        }
      ]
    },
    {
      "cell_type": "markdown",
      "source": [
        "Ans: The output of above code is 1, ['x'], {'a': 'y'}.\n",
        "\n",
        "Eventhough Python gives importance to indentation. its provides a facility to declare an entire function in one single line. where statements in a function body are sepereated by ;\n",
        "\n",
        "When l,m,n are provided as inputs to the function. its modifies the values of l,m,n and sets the value of l=2 ,m=['x'] and n={'a':'y'}"
      ],
      "metadata": {
        "id": "u-r9x_UHNmSL"
      }
    },
    {
      "cell_type": "code",
      "source": [],
      "metadata": {
        "id": "pi0aeG1lLm97"
      },
      "execution_count": null,
      "outputs": []
    }
  ]
}