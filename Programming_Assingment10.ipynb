{
  "nbformat": 4,
  "nbformat_minor": 0,
  "metadata": {
    "colab": {
      "provenance": []
    },
    "kernelspec": {
      "name": "python3",
      "display_name": "Python 3"
    },
    "language_info": {
      "name": "python"
    }
  },
  "cells": [
    {
      "cell_type": "code",
      "execution_count": null,
      "metadata": {
        "id": "ES85DK7ts6Jc"
      },
      "outputs": [],
      "source": [
        "#1.\tWrite a Python program to find sum of elements in list?"
      ]
    },
    {
      "cell_type": "code",
      "source": [
        "l1 = [20,35,64,874,\"ineuron\",\"pune\",254.33]\n",
        "\n",
        "sum = 0\n",
        "for i in l1:\n",
        "  if type(i) == int or type(i) == float :\n",
        "    sum = sum + i\n",
        "print(\"sum of elements in list: \",sum)\n"
      ],
      "metadata": {
        "colab": {
          "base_uri": "https://localhost:8080/"
        },
        "id": "3SBrpziKs-KW",
        "outputId": "1c16de51-519f-427e-e3f8-edfb09c8fa9a"
      },
      "execution_count": null,
      "outputs": [
        {
          "output_type": "stream",
          "name": "stdout",
          "text": [
            "sum of elements in list:  1247.33\n"
          ]
        }
      ]
    },
    {
      "cell_type": "code",
      "source": [
        "#2.\tWrite a Python program to  Multiply all numbers in the list?"
      ],
      "metadata": {
        "id": "WKXf8MIwtrr9"
      },
      "execution_count": null,
      "outputs": []
    },
    {
      "cell_type": "code",
      "source": [
        "l2 = [20,35,64,874,\"ineuron\",\"pune\",254.33,35,66,8745]\n",
        "\n",
        "mult = 1\n",
        "for i in l2:\n",
        "  if type(i) == int or type(i) == float :\n",
        "    mult = mult * i\n",
        "print(\"Multiplication of elements in list: \",mult)\n"
      ],
      "metadata": {
        "colab": {
          "base_uri": "https://localhost:8080/"
        },
        "id": "VhjAigDmt3Rt",
        "outputId": "79cf7f9a-ad61-4b78-e144-66ca2286eb99"
      },
      "execution_count": null,
      "outputs": [
        {
          "output_type": "stream",
          "name": "stdout",
          "text": [
            "Multiplication of elements in list:  2.011679691481152e+17\n"
          ]
        }
      ]
    },
    {
      "cell_type": "code",
      "source": [
        "#3.\tWrite a Python program to find smallest number in a list?"
      ],
      "metadata": {
        "id": "m4us5Wd8uBPu"
      },
      "execution_count": null,
      "outputs": []
    },
    {
      "cell_type": "code",
      "source": [
        "l5 = [225,35,8,874,\"ineuron\",\"pune\",254.33,35,3.2,8745]\n",
        "\n",
        "for i in l5 :\n",
        "  if type(i) == int or type(i) == float :\n",
        "    if i <= l5[0] :\n",
        "      min = i\n",
        "      \n",
        "    \n",
        "print(min,\"is min number\")"
      ],
      "metadata": {
        "colab": {
          "base_uri": "https://localhost:8080/"
        },
        "id": "S9brEjDj8Roe",
        "outputId": "815361e4-807e-4694-9eba-7717d51a4927"
      },
      "execution_count": null,
      "outputs": [
        {
          "output_type": "stream",
          "name": "stdout",
          "text": [
            "3.2 is min number\n"
          ]
        }
      ]
    },
    {
      "cell_type": "code",
      "source": [
        "#4.\tWrite a Python program to find largest number in a list?"
      ],
      "metadata": {
        "id": "JSNwJqBQ-WkA"
      },
      "execution_count": null,
      "outputs": []
    },
    {
      "cell_type": "code",
      "source": [
        "l6 = [225,35,8,874,\"ineuron\",\"pune\",254.33,35,3.2,8745]\n",
        "\n",
        "for i in l6 :\n",
        "  if type(i) == int or type(i) == float :\n",
        "    if i >= l6[0] :\n",
        "      max = i\n",
        "      \n",
        "    \n",
        "print(max,\"is max number\")"
      ],
      "metadata": {
        "colab": {
          "base_uri": "https://localhost:8080/"
        },
        "id": "8mdlsgv_CSej",
        "outputId": "e80c52f7-d9a8-4156-9295-f9fab1c572b1"
      },
      "execution_count": null,
      "outputs": [
        {
          "output_type": "stream",
          "name": "stdout",
          "text": [
            "8745 is max number\n"
          ]
        }
      ]
    },
    {
      "cell_type": "code",
      "source": [
        "#5.\tWrite a Python program to find second largest number in a list?"
      ],
      "metadata": {
        "id": "43IM-sA5CSx_"
      },
      "execution_count": null,
      "outputs": []
    },
    {
      "cell_type": "code",
      "source": [
        "mylist = [10,11,24,23,120,6,3]\n",
        "mylist.sort()\n",
        "print(mylist)\n",
        "print(\"second largets number : \",mylist[-2])"
      ],
      "metadata": {
        "id": "cy6kSUZJCTMq",
        "colab": {
          "base_uri": "https://localhost:8080/"
        },
        "outputId": "71477feb-1073-40bc-8881-63fe397f8fe0"
      },
      "execution_count": null,
      "outputs": [
        {
          "output_type": "stream",
          "name": "stdout",
          "text": [
            "[3, 6, 10, 11, 23, 24, 120]\n",
            "second largets number :  24\n"
          ]
        }
      ]
    },
    {
      "cell_type": "code",
      "source": [
        "#6.\tWrite a Python program to find N largest elements from a list?\n",
        "n = int(input('enter a number: '))\n",
        "mylist_1 = [10,11,24,23,120,6,3,24,333,54]\n",
        "mylist_1.sort()\n",
        "print(mylist_1)\n",
        "print(f\"{n}th largest elemnt in list is: {mylist_1[n-1]} \")"
      ],
      "metadata": {
        "colab": {
          "base_uri": "https://localhost:8080/"
        },
        "id": "3BCsKjP8dxNy",
        "outputId": "d0c9edb2-7caf-4e8d-a697-1de8fce72b4f"
      },
      "execution_count": null,
      "outputs": [
        {
          "output_type": "stream",
          "name": "stdout",
          "text": [
            "enter a number: 3\n",
            "[3, 6, 10, 11, 23, 24, 24, 54, 120, 333]\n",
            "3th largest elemnt in list is: 10 \n"
          ]
        }
      ]
    },
    {
      "cell_type": "code",
      "source": [
        "#7.\tWrite a Python program to print even numbers in a list?"
      ],
      "metadata": {
        "id": "47Fm3VfHewPB"
      },
      "execution_count": null,
      "outputs": []
    },
    {
      "cell_type": "code",
      "source": [
        "mylist_2 = [10,11,24,23,120,6,3,24,333,54]\n",
        "\n",
        "for i in mylist_2 :\n",
        "  if i % 2 == 0:\n",
        "    print(i)"
      ],
      "metadata": {
        "colab": {
          "base_uri": "https://localhost:8080/"
        },
        "id": "CKHreagsf87t",
        "outputId": "74050125-c9f6-4429-ca7c-d84c8ad8d618"
      },
      "execution_count": null,
      "outputs": [
        {
          "output_type": "stream",
          "name": "stdout",
          "text": [
            "10\n",
            "24\n",
            "120\n",
            "6\n",
            "24\n",
            "54\n"
          ]
        }
      ]
    },
    {
      "cell_type": "code",
      "source": [
        "#8.\tWrite a Python program to print odd numbers in a List?"
      ],
      "metadata": {
        "id": "ZsBcehZegSI2"
      },
      "execution_count": null,
      "outputs": []
    },
    {
      "cell_type": "code",
      "source": [
        "mylist_3 = [10,11,24,23,120,6,3,24,333,54]\n",
        "for i in mylist_2 :\n",
        "  if i % 2 != 0:\n",
        "    print(i)"
      ],
      "metadata": {
        "colab": {
          "base_uri": "https://localhost:8080/"
        },
        "id": "eQSBqFWEgXNZ",
        "outputId": "4ba5dd61-a03e-4799-a33d-084a5783b140"
      },
      "execution_count": null,
      "outputs": [
        {
          "output_type": "stream",
          "name": "stdout",
          "text": [
            "11\n",
            "23\n",
            "3\n",
            "333\n"
          ]
        }
      ]
    },
    {
      "cell_type": "code",
      "source": [
        "#9.\tWrite a Python program to Remove empty List from List?\n",
        "mylist_3 = [10,11,[],6,3,[],333,[],[],54]\n",
        "\n",
        "new_list = [x  for x in mylist_3  if x]\n",
        "print(new_list)"
      ],
      "metadata": {
        "colab": {
          "base_uri": "https://localhost:8080/"
        },
        "id": "g0EXJFBCgbRN",
        "outputId": "675907f1-99d4-4783-d92f-13e2392f5e59"
      },
      "execution_count": null,
      "outputs": [
        {
          "output_type": "stream",
          "name": "stdout",
          "text": [
            "[10, 11, 6, 3, 333, 54]\n"
          ]
        }
      ]
    },
    {
      "cell_type": "code",
      "source": [
        "#10.\tWrite a Python program to Cloning or Copying a list?"
      ],
      "metadata": {
        "id": "qIhfCxpOm1R8"
      },
      "execution_count": null,
      "outputs": []
    },
    {
      "cell_type": "code",
      "source": [
        "#option1 - slicing Operator\n",
        "mylist_4 = [10,11,24,23,120,6,3,24,333,54]\n",
        "mylist_4_copy = mylist_4[:]\n",
        "print(mylist_4_copy)\n"
      ],
      "metadata": {
        "id": "2_hvMUpOm8Nc",
        "colab": {
          "base_uri": "https://localhost:8080/"
        },
        "outputId": "8ffc7b2b-9905-4741-b1af-7247ab0001da"
      },
      "execution_count": null,
      "outputs": [
        {
          "output_type": "stream",
          "name": "stdout",
          "text": [
            "[10, 11, 24, 23, 120, 6, 3, 24, 333, 54]\n"
          ]
        }
      ]
    },
    {
      "cell_type": "code",
      "source": [
        "#option -2  .extend list method\n",
        "mylist_4_copy1 = [] #if blank list allready created\n",
        "mylist_4_copy1.extend(mylist_4)\n",
        "print(mylist_4_copy1)\n"
      ],
      "metadata": {
        "colab": {
          "base_uri": "https://localhost:8080/"
        },
        "id": "dr7GHoCwqKBX",
        "outputId": "c64c37a9-318c-49f9-eda4-732add1f78b7"
      },
      "execution_count": null,
      "outputs": [
        {
          "output_type": "stream",
          "name": "stdout",
          "text": [
            "[10, 11, 24, 23, 120, 6, 3, 24, 333, 54]\n"
          ]
        }
      ]
    },
    {
      "cell_type": "code",
      "source": [
        "#option -3   list() method\n",
        "mylist_4_copy2 = list(mylist_4)\n",
        "print(mylist_4_copy2)"
      ],
      "metadata": {
        "colab": {
          "base_uri": "https://localhost:8080/"
        },
        "id": "YksV1x3LqhaI",
        "outputId": "f6290120-5f8d-4c5c-f676-760ef9fe6c2b"
      },
      "execution_count": null,
      "outputs": [
        {
          "output_type": "stream",
          "name": "stdout",
          "text": [
            "[10, 11, 24, 23, 120, 6, 3, 24, 333, 54]\n"
          ]
        }
      ]
    },
    {
      "cell_type": "code",
      "source": [
        "#option -4 copy() method\n",
        "mylist_4_copy3 = mylist_4.copy()\n",
        "print(mylist_4_copy3)\n"
      ],
      "metadata": {
        "colab": {
          "base_uri": "https://localhost:8080/"
        },
        "id": "RVqDAeU5xqX3",
        "outputId": "a24c2a17-4dfe-4a76-cfc8-7a5479b4af6f"
      },
      "execution_count": null,
      "outputs": [
        {
          "output_type": "stream",
          "name": "stdout",
          "text": [
            "[10, 11, 24, 23, 120, 6, 3, 24, 333, 54]\n"
          ]
        }
      ]
    },
    {
      "cell_type": "code",
      "source": [
        "#option -5 List comprehension method\n",
        "mylist_4_copy4 = [i for i in mylist_4 ]\n",
        "print(mylist_4_copy4)"
      ],
      "metadata": {
        "colab": {
          "base_uri": "https://localhost:8080/"
        },
        "id": "f0Wrj1hdypjQ",
        "outputId": "8972ecf5-877c-4bc6-831a-9bed3cea408a"
      },
      "execution_count": null,
      "outputs": [
        {
          "output_type": "stream",
          "name": "stdout",
          "text": [
            "[10, 11, 24, 23, 120, 6, 3, 24, 333, 54]\n"
          ]
        }
      ]
    },
    {
      "cell_type": "code",
      "source": [
        "#11.\tWrite a Python program to Count occurrences of an element in a list?"
      ],
      "metadata": {
        "id": "icrDwyVJzTmO"
      },
      "execution_count": 44,
      "outputs": []
    },
    {
      "cell_type": "code",
      "source": [
        "from collections import Counter\n",
        "mylist_5 = [10,11,24,23,120,6,10,10,3,3,3,24,333,24,24,24,120,120,54]\n",
        "dic = Counter(mylist_5)\n",
        "print(dic) #elemnt occurences will be represented "
      ],
      "metadata": {
        "colab": {
          "base_uri": "https://localhost:8080/"
        },
        "id": "gXS6eSAhYsvZ",
        "outputId": "681e5196-f1e3-4e44-9aa1-8a74d072439f"
      },
      "execution_count": 45,
      "outputs": [
        {
          "output_type": "stream",
          "name": "stdout",
          "text": [
            "Counter({24: 5, 10: 3, 120: 3, 3: 3, 11: 1, 23: 1, 6: 1, 333: 1, 54: 1})\n"
          ]
        }
      ]
    },
    {
      "cell_type": "code",
      "source": [],
      "metadata": {
        "id": "BjwXGw8VZD7H"
      },
      "execution_count": null,
      "outputs": []
    }
  ]
}